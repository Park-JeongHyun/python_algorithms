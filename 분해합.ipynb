{
  "nbformat": 4,
  "nbformat_minor": 0,
  "metadata": {
    "colab": {
      "name": "분해합",
      "provenance": [],
      "authorship_tag": "ABX9TyMrm7G3bfgGiN/lMT7EWg+r",
      "include_colab_link": true
    },
    "kernelspec": {
      "name": "python3",
      "display_name": "Python 3"
    },
    "language_info": {
      "name": "python"
    }
  },
  "cells": [
    {
      "cell_type": "markdown",
      "metadata": {
        "id": "view-in-github",
        "colab_type": "text"
      },
      "source": [
        "<a href=\"https://colab.research.google.com/github/Park-JeongHyun/python_algorithms/blob/study/%EB%B6%84%ED%95%B4%ED%95%A9.ipynb\" target=\"_parent\"><img src=\"https://colab.research.google.com/assets/colab-badge.svg\" alt=\"Open In Colab\"/></a>"
      ]
    },
    {
      "cell_type": "markdown",
      "source": [
        "문제 2231"
      ],
      "metadata": {
        "id": "sQfdHzj6kZvB"
      }
    },
    {
      "cell_type": "code",
      "source": [
        "from sys import stdin\n",
        "\n",
        "n = int(stdin.readline())\n",
        "d = False\n",
        "\n",
        "for m in range(n):\n",
        "  result = m\n",
        "  s = str(m)\n",
        "  for i in s:\n",
        "    result += int(i)\n",
        "  \n",
        "  if result == n :\n",
        "    d = True\n",
        "    print(m)\n",
        "    break\n",
        "  \n",
        "  if m == n-1 and d == False:\n",
        "    print(0)\n",
        "\n",
        "\n"
      ],
      "metadata": {
        "id": "wI27MaK087Gk"
      },
      "execution_count": null,
      "outputs": []
    }
  ]
}