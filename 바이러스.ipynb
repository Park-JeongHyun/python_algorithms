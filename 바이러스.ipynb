{
  "nbformat": 4,
  "nbformat_minor": 0,
  "metadata": {
    "colab": {
      "name": "바이러스",
      "provenance": [],
      "authorship_tag": "ABX9TyMmS3Z2UuvMwe+w+GA5JKTU",
      "include_colab_link": true
    },
    "kernelspec": {
      "name": "python3",
      "display_name": "Python 3"
    },
    "language_info": {
      "name": "python"
    }
  },
  "cells": [
    {
      "cell_type": "markdown",
      "metadata": {
        "id": "view-in-github",
        "colab_type": "text"
      },
      "source": [
        "<a href=\"https://colab.research.google.com/github/Park-JeongHyun/python_algorithms/blob/study/%EB%B0%94%EC%9D%B4%EB%9F%AC%EC%8A%A4.ipynb\" target=\"_parent\"><img src=\"https://colab.research.google.com/assets/colab-badge.svg\" alt=\"Open In Colab\"/></a>"
      ]
    },
    {
      "cell_type": "markdown",
      "source": [
        "문제 2606"
      ],
      "metadata": {
        "id": "sQfdHzj6kZvB"
      }
    },
    {
      "cell_type": "code",
      "source": [
        "n = int(input())\n",
        "t = int(input())\n",
        "s = [[0] * n for i in range(n)]\n",
        "visit = [0 for i in range(n)]\n",
        "for i in range(t):\n",
        "    a, b = map(int, input().split())\n",
        "    s[a - 1][b - 1] = 1\n",
        "    s[b - 1][a - 1] = 1\n",
        "def dfs(v):\n",
        "    visit[v] = 1\n",
        "    for i in range(n):\n",
        "        if s[v][i] == 1 and visit[i] == 0:\n",
        "            dfs(i)\n",
        "dfs(0)\n",
        "cnt = 0\n",
        "for i in range(1, n):\n",
        "    if visit[i] == 1:\n",
        "        cnt += 1\n",
        "print(cnt)"
      ],
      "metadata": {
        "id": "wI27MaK087Gk"
      },
      "execution_count": null,
      "outputs": []
    }
  ]
}