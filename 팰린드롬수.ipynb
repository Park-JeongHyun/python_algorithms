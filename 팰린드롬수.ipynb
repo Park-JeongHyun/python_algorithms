{
  "nbformat": 4,
  "nbformat_minor": 0,
  "metadata": {
    "colab": {
      "name": "팰린드롬수",
      "provenance": [],
      "authorship_tag": "ABX9TyN+D5ntDlQ27kk+V0L3o2vK",
      "include_colab_link": true
    },
    "kernelspec": {
      "name": "python3",
      "display_name": "Python 3"
    },
    "language_info": {
      "name": "python"
    }
  },
  "cells": [
    {
      "cell_type": "markdown",
      "metadata": {
        "id": "view-in-github",
        "colab_type": "text"
      },
      "source": [
        "<a href=\"https://colab.research.google.com/github/Park-JeongHyun/python_algorithms/blob/study/%ED%8C%B0%EB%A6%B0%EB%93%9C%EB%A1%AC%EC%88%98.ipynb\" target=\"_parent\"><img src=\"https://colab.research.google.com/assets/colab-badge.svg\" alt=\"Open In Colab\"/></a>"
      ]
    },
    {
      "cell_type": "markdown",
      "source": [
        "문제 1259"
      ],
      "metadata": {
        "id": "sQfdHzj6kZvB"
      }
    },
    {
      "cell_type": "code",
      "source": [
        "n = []\n",
        "while n != [0]:\n",
        "  n = list(map(int,input()))\n",
        "\n",
        "  if n == [0]:\n",
        "    break\n",
        "  elif n == n[::-1]:\n",
        "    print('yes')\n",
        "  else:\n",
        "    print('no')"
      ],
      "metadata": {
        "colab": {
          "base_uri": "https://localhost:8080/"
        },
        "id": "wI27MaK087Gk",
        "outputId": "01f398e7-1ee6-4e11-96e6-f662cc7f1d40"
      },
      "execution_count": 1,
      "outputs": [
        {
          "name": "stdout",
          "output_type": "stream",
          "text": [
            "12321\n",
            "yes\n",
            "1231\n",
            "no\n",
            "12421\n",
            "yes\n",
            "0\n"
          ]
        }
      ]
    }
  ]
}