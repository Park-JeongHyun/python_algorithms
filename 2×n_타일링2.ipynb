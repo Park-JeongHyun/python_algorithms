{
  "nbformat": 4,
  "nbformat_minor": 0,
  "metadata": {
    "colab": {
      "name": "2×n 타일링2",
      "provenance": [],
      "authorship_tag": "ABX9TyO8As+aV83AXB1B/tgRSJbK",
      "include_colab_link": true
    },
    "kernelspec": {
      "name": "python3",
      "display_name": "Python 3"
    },
    "language_info": {
      "name": "python"
    }
  },
  "cells": [
    {
      "cell_type": "markdown",
      "metadata": {
        "id": "view-in-github",
        "colab_type": "text"
      },
      "source": [
        "<a href=\"https://colab.research.google.com/github/Park-JeongHyun/python_algorithms/blob/study/2%C3%97n_%ED%83%80%EC%9D%BC%EB%A7%812.ipynb\" target=\"_parent\"><img src=\"https://colab.research.google.com/assets/colab-badge.svg\" alt=\"Open In Colab\"/></a>"
      ]
    },
    {
      "cell_type": "markdown",
      "source": [
        "문제 11727"
      ],
      "metadata": {
        "id": "sQfdHzj6kZvB"
      }
    },
    {
      "cell_type": "code",
      "source": [
        "n = int(input())\n",
        "dp = [0 for _ in range(n+3)]\n",
        "\n",
        "dp[1] = 1\n",
        "dp[2] = 3\n",
        "dp[3] = 5\n",
        "\n",
        "for i in range(3, n+1):\n",
        "  dp[i] = dp[i-2]*2 + dp[i-1]\n",
        "\n",
        "print(dp[n] % 10007)"
      ],
      "metadata": {
        "id": "wI27MaK087Gk"
      },
      "execution_count": null,
      "outputs": []
    }
  ]
}