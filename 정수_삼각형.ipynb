{
  "nbformat": 4,
  "nbformat_minor": 0,
  "metadata": {
    "colab": {
      "name": "정수 삼각형",
      "provenance": [],
      "authorship_tag": "ABX9TyMdAkHbXQlfBJJHIH4ygX/q",
      "include_colab_link": true
    },
    "kernelspec": {
      "name": "python3",
      "display_name": "Python 3"
    },
    "language_info": {
      "name": "python"
    }
  },
  "cells": [
    {
      "cell_type": "markdown",
      "metadata": {
        "id": "view-in-github",
        "colab_type": "text"
      },
      "source": [
        "<a href=\"https://colab.research.google.com/github/Park-JeongHyun/python_algorithms/blob/study/%EC%A0%95%EC%88%98_%EC%82%BC%EA%B0%81%ED%98%95.ipynb\" target=\"_parent\"><img src=\"https://colab.research.google.com/assets/colab-badge.svg\" alt=\"Open In Colab\"/></a>"
      ]
    },
    {
      "cell_type": "markdown",
      "source": [
        "문제 1932"
      ],
      "metadata": {
        "id": "sQfdHzj6kZvB"
      }
    },
    {
      "cell_type": "code",
      "source": [
        "n = int(input())\n",
        "a = [[0] for _ in range(n)]\n",
        "\n",
        "for i in range(n):\n",
        "  a[i] = (list(map(int, input().split())))\n",
        "\n",
        "for i in range(1, n):\n",
        "  for j in range(i+1):\n",
        "    if j == 0:\n",
        "      a[i][j] = a[i-1][j] + a[i][j]\n",
        "    elif j == i:\n",
        "      a[i][j] = a[i-1][j-1] + a[i][j] \n",
        "    else:\n",
        "      a[i][j] = max(a[i-1][j-1], a[i-1][j]) + a[i][j]\n",
        "\n",
        "print(max(a[n-1]))"
      ],
      "metadata": {
        "id": "wI27MaK087Gk"
      },
      "execution_count": null,
      "outputs": []
    }
  ]
}