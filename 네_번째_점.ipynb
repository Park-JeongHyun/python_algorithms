{
  "nbformat": 4,
  "nbformat_minor": 0,
  "metadata": {
    "colab": {
      "name": "네 번째 점",
      "provenance": [],
      "authorship_tag": "ABX9TyMk9rEwqsbZTh9KonD8VDYF",
      "include_colab_link": true
    },
    "kernelspec": {
      "name": "python3",
      "display_name": "Python 3"
    },
    "language_info": {
      "name": "python"
    }
  },
  "cells": [
    {
      "cell_type": "markdown",
      "metadata": {
        "id": "view-in-github",
        "colab_type": "text"
      },
      "source": [
        "<a href=\"https://colab.research.google.com/github/Park-JeongHyun/python_algorithms/blob/study/%EB%84%A4_%EB%B2%88%EC%A7%B8_%EC%A0%90.ipynb\" target=\"_parent\"><img src=\"https://colab.research.google.com/assets/colab-badge.svg\" alt=\"Open In Colab\"/></a>"
      ]
    },
    {
      "cell_type": "markdown",
      "source": [
        "문제 3009"
      ],
      "metadata": {
        "id": "sQfdHzj6kZvB"
      }
    },
    {
      "cell_type": "code",
      "source": [
        "x1, y1 = map(int, input().split())\n",
        "x2, y2 = map(int, input().split())\n",
        "x3, y3 = map(int, input().split())\n",
        "\n",
        "if x1 == x2:\n",
        "  x4 = x3\n",
        "elif x1 == x3:\n",
        "  x4 = x2\n",
        "else:\n",
        "  x4 = x1\n",
        "\n",
        "if y1 == y2:\n",
        "  y4 = y3\n",
        "elif y1 == y3:\n",
        "  y4 = y2\n",
        "else:\n",
        "  y4 = y1\n",
        "\n",
        "print(x4 ,y4)"
      ],
      "metadata": {
        "colab": {
          "base_uri": "https://localhost:8080/"
        },
        "id": "wI27MaK087Gk",
        "outputId": "223215bb-df83-44e1-8f9f-abf1bb6ddc53"
      },
      "execution_count": 3,
      "outputs": [
        {
          "output_type": "stream",
          "name": "stdout",
          "text": [
            "5 5\n",
            "5 7\n",
            "7 5\n",
            "7 7\n"
          ]
        }
      ]
    }
  ]
}