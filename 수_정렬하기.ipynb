{
  "nbformat": 4,
  "nbformat_minor": 0,
  "metadata": {
    "colab": {
      "name": "수 정렬하기",
      "provenance": [],
      "authorship_tag": "ABX9TyN1sZzK6ecqtVdc9klSwq2V",
      "include_colab_link": true
    },
    "kernelspec": {
      "name": "python3",
      "display_name": "Python 3"
    },
    "language_info": {
      "name": "python"
    }
  },
  "cells": [
    {
      "cell_type": "markdown",
      "metadata": {
        "id": "view-in-github",
        "colab_type": "text"
      },
      "source": [
        "<a href=\"https://colab.research.google.com/github/Park-JeongHyun/python_algorithms/blob/main/%EC%88%98_%EC%A0%95%EB%A0%AC%ED%95%98%EA%B8%B0.ipynb\" target=\"_parent\"><img src=\"https://colab.research.google.com/assets/colab-badge.svg\" alt=\"Open In Colab\"/></a>"
      ]
    },
    {
      "cell_type": "markdown",
      "source": [
        "문제 2750"
      ],
      "metadata": {
        "id": "qyl04bQ1eG4b"
      }
    },
    {
      "cell_type": "code",
      "source": [
        "n = int(input())\n",
        "a = []\n",
        "\n",
        "for _ in range(n):\n",
        "  a.append(int(input()))\n",
        "\n",
        "a.sort()\n",
        "for i in a:\n",
        "  print(i)"
      ],
      "metadata": {
        "id": "aiOB-7HueEH-"
      },
      "execution_count": null,
      "outputs": []
    },
    {
      "cell_type": "markdown",
      "source": [
        ""
      ],
      "metadata": {
        "id": "4tEN4hRRyFTW"
      }
    }
  ]
}