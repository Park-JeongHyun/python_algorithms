{
  "nbformat": 4,
  "nbformat_minor": 0,
  "metadata": {
    "colab": {
      "name": "\b가장 긴 증가하는 부분 수열3",
      "provenance": [],
      "authorship_tag": "ABX9TyNoeVy4D9FUAhxrUsgzfeki",
      "include_colab_link": true
    },
    "kernelspec": {
      "name": "python3",
      "display_name": "Python 3"
    },
    "language_info": {
      "name": "python"
    }
  },
  "cells": [
    {
      "cell_type": "markdown",
      "metadata": {
        "id": "view-in-github",
        "colab_type": "text"
      },
      "source": [
        "<a href=\"https://colab.research.google.com/github/Park-JeongHyun/python_algorithms/blob/main/%08%EA%B0%80%EC%9E%A5_%EA%B8%B4_%EC%A6%9D%EA%B0%80%ED%95%98%EB%8A%94_%EB%B6%80%EB%B6%84_%EC%88%98%EC%97%B43.ipynb\" target=\"_parent\"><img src=\"https://colab.research.google.com/assets/colab-badge.svg\" alt=\"Open In Colab\"/></a>"
      ]
    },
    {
      "cell_type": "markdown",
      "source": [
        "문제 12738"
      ],
      "metadata": {
        "id": "qyl04bQ1eG4b"
      }
    },
    {
      "cell_type": "code",
      "source": [
        "import sys \n",
        "from bisect import bisect_left \n",
        "n = int(sys.stdin.readline()) \n",
        "a = list(map(int,sys.stdin.readline().split())) \n",
        "dp = []\n",
        "\n",
        "for i in a:\n",
        "  k = bisect_left(dp, i)\n",
        "  if len(dp) == k:\n",
        "    dp.append(i)\n",
        "  else:\n",
        "    dp[k] = i\n",
        "      \n",
        "print(len(dp))"
      ],
      "metadata": {
        "id": "aiOB-7HueEH-"
      },
      "execution_count": null,
      "outputs": []
    }
  ]
}