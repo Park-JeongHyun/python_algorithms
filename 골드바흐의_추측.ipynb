{
  "nbformat": 4,
  "nbformat_minor": 0,
  "metadata": {
    "colab": {
      "name": "골드바흐의 추측",
      "provenance": [],
      "authorship_tag": "ABX9TyPv3eWW2vLZMdEy8UidFXDm",
      "include_colab_link": true
    },
    "kernelspec": {
      "name": "python3",
      "display_name": "Python 3"
    },
    "language_info": {
      "name": "python"
    }
  },
  "cells": [
    {
      "cell_type": "markdown",
      "metadata": {
        "id": "view-in-github",
        "colab_type": "text"
      },
      "source": [
        "<a href=\"https://colab.research.google.com/github/Park-JeongHyun/python_algorithms/blob/study/%EA%B3%A8%EB%93%9C%EB%B0%94%ED%9D%90%EC%9D%98_%EC%B6%94%EC%B8%A1.ipynb\" target=\"_parent\"><img src=\"https://colab.research.google.com/assets/colab-badge.svg\" alt=\"Open In Colab\"/></a>"
      ]
    },
    {
      "cell_type": "markdown",
      "source": [
        "문제 9020"
      ],
      "metadata": {
        "id": "sQfdHzj6kZvB"
      }
    },
    {
      "cell_type": "code",
      "source": [
        "t = int(input())\n",
        "\n",
        "for _ in range(t):\n",
        "  n = int(input())\n",
        "  k = int(n ** 0.5) + 1\n",
        "  a = [True]*(n+1)\n",
        "\n",
        "  for i in range(2, k+1):\n",
        "    if a[i] == True:\n",
        "      for j in range(i+i, n+1, i):\n",
        "        a[j] = False\n",
        "\n",
        "  if a[int(n/2)]:\n",
        "    print(int(n/2), int(n/2))\n",
        "  else:\n",
        "    cnt = 0\n",
        "    while True:\n",
        "      if a[int(n/2) -1 - cnt] and a[int(n/2) +1 + cnt]:\n",
        "        print(int(n/2) -1 - cnt, int(n/2) +1 + cnt)\n",
        "        break\n",
        "      cnt += 1\n"
      ],
      "metadata": {
        "colab": {
          "base_uri": "https://localhost:8080/"
        },
        "id": "wI27MaK087Gk",
        "outputId": "424f5ad4-295b-4c64-b0ec-af040881be1f"
      },
      "execution_count": 7,
      "outputs": [
        {
          "output_type": "stream",
          "name": "stdout",
          "text": [
            "3\n",
            "8\n",
            "3 5\n",
            "16\n",
            "5 11\n",
            "10000\n",
            "4919 5081\n"
          ]
        }
      ]
    }
  ]
}