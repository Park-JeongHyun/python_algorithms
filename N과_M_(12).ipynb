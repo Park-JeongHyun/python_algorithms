{
  "nbformat": 4,
  "nbformat_minor": 0,
  "metadata": {
    "colab": {
      "name": "N과 M (12)",
      "provenance": [],
      "authorship_tag": "ABX9TyNuJe6uAlxcRv4wkxO9giFT",
      "include_colab_link": true
    },
    "kernelspec": {
      "name": "python3",
      "display_name": "Python 3"
    },
    "language_info": {
      "name": "python"
    }
  },
  "cells": [
    {
      "cell_type": "markdown",
      "metadata": {
        "id": "view-in-github",
        "colab_type": "text"
      },
      "source": [
        "<a href=\"https://colab.research.google.com/github/Park-JeongHyun/python_algorithms/blob/study/N%EA%B3%BC_M_(12).ipynb\" target=\"_parent\"><img src=\"https://colab.research.google.com/assets/colab-badge.svg\" alt=\"Open In Colab\"/></a>"
      ]
    },
    {
      "cell_type": "markdown",
      "source": [
        "문제 15666"
      ],
      "metadata": {
        "id": "sQfdHzj6kZvB"
      }
    },
    {
      "cell_type": "code",
      "source": [
        "n, m = map(int, input().split())\n",
        "a = list(map(int, input().split()))\n",
        "a = sorted(list(set(a)))\n",
        "w = []\n",
        "\n",
        "def solve(s):\n",
        "  if len(w) == m:\n",
        "    print(\" \".join(map(str, w)))\n",
        "    return\n",
        "  d = s\n",
        "  for i in range(len(a)):\n",
        "    if d == 0 or d <= a[i]:\n",
        "      w.append(a[i])\n",
        "      solve(a[i])\n",
        "      w.pop()\n",
        "\n",
        "solve(0)"
      ],
      "metadata": {
        "id": "wI27MaK087Gk"
      },
      "execution_count": null,
      "outputs": []
    }
  ]
}