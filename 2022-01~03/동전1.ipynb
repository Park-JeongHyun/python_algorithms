{
  "nbformat": 4,
  "nbformat_minor": 0,
  "metadata": {
    "colab": {
      "name": "동전1",
      "provenance": [],
      "authorship_tag": "ABX9TyMzVL2vhgxCW/eYXxVzuoyo",
      "include_colab_link": true
    },
    "kernelspec": {
      "name": "python3",
      "display_name": "Python 3"
    },
    "language_info": {
      "name": "python"
    }
  },
  "cells": [
    {
      "cell_type": "markdown",
      "metadata": {
        "id": "view-in-github",
        "colab_type": "text"
      },
      "source": [
        "<a href=\"https://colab.research.google.com/github/Park-JeongHyun/python_algorithms/blob/main/%EB%8F%99%EC%A0%841.ipynb\" target=\"_parent\"><img src=\"https://colab.research.google.com/assets/colab-badge.svg\" alt=\"Open In Colab\"/></a>"
      ]
    },
    {
      "cell_type": "markdown",
      "source": [
        "문제 2293"
      ],
      "metadata": {
        "id": "qyl04bQ1eG4b"
      }
    },
    {
      "cell_type": "code",
      "source": [
        "n, k = map(int, input().split())\n",
        "a = []\n",
        "dp = [0 for _ in range(k+1)]\n",
        "dp[0] = 1\n",
        "\n",
        "for _ in range(n):\n",
        "  a.append(int(input()))\n",
        "\n",
        "for i in a:\n",
        "  for j in range(i, k+1):\n",
        "    dp[j] += dp[j-i]\n",
        "\n",
        "print(dp[-1])"
      ],
      "metadata": {
        "id": "aiOB-7HueEH-"
      },
      "execution_count": null,
      "outputs": []
    },
    {
      "cell_type": "markdown",
      "source": [
        ""
      ],
      "metadata": {
        "id": "4tEN4hRRyFTW"
      }
    }
  ]
}