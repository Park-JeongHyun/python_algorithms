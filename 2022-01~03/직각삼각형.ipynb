{
  "nbformat": 4,
  "nbformat_minor": 0,
  "metadata": {
    "colab": {
      "name": "직각삼각형",
      "provenance": [],
      "authorship_tag": "ABX9TyPfAvZR/UEZE+v4CW6xA4EP",
      "include_colab_link": true
    },
    "kernelspec": {
      "name": "python3",
      "display_name": "Python 3"
    },
    "language_info": {
      "name": "python"
    }
  },
  "cells": [
    {
      "cell_type": "markdown",
      "metadata": {
        "id": "view-in-github",
        "colab_type": "text"
      },
      "source": [
        "<a href=\"https://colab.research.google.com/github/Park-JeongHyun/python_algorithms/blob/study/%EC%A7%81%EA%B0%81%EC%82%BC%EA%B0%81%ED%98%95.ipynb\" target=\"_parent\"><img src=\"https://colab.research.google.com/assets/colab-badge.svg\" alt=\"Open In Colab\"/></a>"
      ]
    },
    {
      "cell_type": "markdown",
      "source": [
        "문제 4153"
      ],
      "metadata": {
        "id": "sQfdHzj6kZvB"
      }
    },
    {
      "cell_type": "code",
      "source": [
        "while True:\n",
        "  a, b, c = map(int, input().split())\n",
        "\n",
        "  if a == b == c ==0:\n",
        "    break\n",
        "  elif a**2 == b**2 + c**2:\n",
        "    print(\"right\")\n",
        "  elif b**2 == a**2 + c**2:\n",
        "    print(\"right\")\n",
        "  elif c**2 == a**2 + b**2:\n",
        "    print(\"right\")\n",
        "  else:\n",
        "    print(\"wrong\")"
      ],
      "metadata": {
        "colab": {
          "base_uri": "https://localhost:8080/"
        },
        "id": "wI27MaK087Gk",
        "outputId": "a0e00b26-bb20-4cb8-ff29-5dc6d31591d5"
      },
      "execution_count": 4,
      "outputs": [
        {
          "name": "stdout",
          "output_type": "stream",
          "text": [
            "6 8 10\n",
            "right\n",
            "25 52 60\n",
            "wrong\n",
            "5 12 13\n",
            "right\n",
            "0 0 0\n"
          ]
        }
      ]
    }
  ]
}