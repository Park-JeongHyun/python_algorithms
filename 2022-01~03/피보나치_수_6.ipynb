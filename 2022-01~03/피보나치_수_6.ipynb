{
  "nbformat": 4,
  "nbformat_minor": 0,
  "metadata": {
    "colab": {
      "name": "\b피보나치 수 6",
      "provenance": [],
      "authorship_tag": "ABX9TyMRLpr07p1YRwPgN8THetBC",
      "include_colab_link": true
    },
    "kernelspec": {
      "name": "python3",
      "display_name": "Python 3"
    },
    "language_info": {
      "name": "python"
    }
  },
  "cells": [
    {
      "cell_type": "markdown",
      "metadata": {
        "id": "view-in-github",
        "colab_type": "text"
      },
      "source": [
        "<a href=\"https://colab.research.google.com/github/Park-JeongHyun/python_algorithms/blob/study/%08%ED%94%BC%EB%B3%B4%EB%82%98%EC%B9%98_%EC%88%98_6.ipynb\" target=\"_parent\"><img src=\"https://colab.research.google.com/assets/colab-badge.svg\" alt=\"Open In Colab\"/></a>"
      ]
    },
    {
      "cell_type": "markdown",
      "source": [
        "문제 11444"
      ],
      "metadata": {
        "id": "sQfdHzj6kZvB"
      }
    },
    {
      "cell_type": "code",
      "source": [
        "import sys\n",
        "sys.setrecursionlimit(100000)\n",
        "input = sys.stdin.readline\n",
        "a = {0: 0, 1: 1, 2: 1}\n",
        "n = int(input())\n",
        "\n",
        "\n",
        "def solve(n):\n",
        "    if not a.get(n):\n",
        "        if n % 2 == 1:\n",
        "            a[n] = (solve((n+1)//2)**2 + solve((n+1)//2-1)**2) % 1000000007\n",
        "        else:\n",
        "            a[n] = (solve(n+1) - solve(n-1)) % 1000000007\n",
        "\n",
        "    return a[n]\n",
        "\n",
        "print(solve(n))"
      ],
      "metadata": {
        "id": "wI27MaK087Gk"
      },
      "execution_count": null,
      "outputs": []
    }
  ]
}