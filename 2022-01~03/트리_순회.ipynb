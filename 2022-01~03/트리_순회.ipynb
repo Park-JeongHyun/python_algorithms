{
  "nbformat": 4,
  "nbformat_minor": 0,
  "metadata": {
    "colab": {
      "name": "트리 순회",
      "provenance": [],
      "authorship_tag": "ABX9TyMe1rn/ctNsVZFXu/Qn+mD+",
      "include_colab_link": true
    },
    "kernelspec": {
      "name": "python3",
      "display_name": "Python 3"
    },
    "language_info": {
      "name": "python"
    }
  },
  "cells": [
    {
      "cell_type": "markdown",
      "metadata": {
        "id": "view-in-github",
        "colab_type": "text"
      },
      "source": [
        "<a href=\"https://colab.research.google.com/github/Park-JeongHyun/python_algorithms/blob/main/%ED%8A%B8%EB%A6%AC_%EC%88%9C%ED%9A%8C.ipynb\" target=\"_parent\"><img src=\"https://colab.research.google.com/assets/colab-badge.svg\" alt=\"Open In Colab\"/></a>"
      ]
    },
    {
      "cell_type": "markdown",
      "source": [
        "문제 1991"
      ],
      "metadata": {
        "id": "sQfdHzj6kZvB"
      }
    },
    {
      "cell_type": "code",
      "source": [
        "n = int(input())\n",
        "a = {}\n",
        "\n",
        "for _ in range(n):\n",
        "  x, y, z = input().split()\n",
        "  a[x] = [y,z]\n",
        "\n",
        "def preorder(x):\n",
        "  if x != '.':\n",
        "    print(x, end='')\n",
        "    preorder(a[x][0])\n",
        "    preorder(a[x][1])\n",
        "\n",
        "def inorder(x):\n",
        "  if x != '.':\n",
        "    inorder(a[x][0])\n",
        "    print(x, end='')\n",
        "    inorder(a[x][1])\n",
        "\n",
        "def postorder(x):\n",
        "  if x != '.':\n",
        "    postorder(a[x][0])\n",
        "    postorder(a[x][1])\n",
        "    print(x, end='')\n",
        "    \n",
        "preorder('A')\n",
        "print()\n",
        "inorder('A')\n",
        "print()\n",
        "postorder('A')"
      ],
      "metadata": {
        "id": "wI27MaK087Gk"
      },
      "execution_count": null,
      "outputs": []
    }
  ]
}