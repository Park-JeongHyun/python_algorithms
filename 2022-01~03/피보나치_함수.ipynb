{
  "nbformat": 4,
  "nbformat_minor": 0,
  "metadata": {
    "colab": {
      "name": "\b피보나치 함수",
      "provenance": [],
      "authorship_tag": "ABX9TyNEVmk57ix8bLtMKYgwCLMM",
      "include_colab_link": true
    },
    "kernelspec": {
      "name": "python3",
      "display_name": "Python 3"
    },
    "language_info": {
      "name": "python"
    }
  },
  "cells": [
    {
      "cell_type": "markdown",
      "metadata": {
        "id": "view-in-github",
        "colab_type": "text"
      },
      "source": [
        "<a href=\"https://colab.research.google.com/github/Park-JeongHyun/python_algorithms/blob/study/%08%ED%94%BC%EB%B3%B4%EB%82%98%EC%B9%98_%ED%95%A8%EC%88%98.ipynb\" target=\"_parent\"><img src=\"https://colab.research.google.com/assets/colab-badge.svg\" alt=\"Open In Colab\"/></a>"
      ]
    },
    {
      "cell_type": "markdown",
      "source": [
        "문제 1003"
      ],
      "metadata": {
        "id": "sQfdHzj6kZvB"
      }
    },
    {
      "cell_type": "code",
      "source": [
        "z = [1, 0, 1]\n",
        "o = [0, 1, 1]\n",
        "\n",
        "def fibo(n):\n",
        "  length = len(z)\n",
        "  if n >= length:\n",
        "    for i in range(length, n+1):\n",
        "      z.append(z[i-1] + z[i-2])\n",
        "      o.append(o[i-1] + o[i-2])\n",
        "            \n",
        "  print(f'{z[n]} {o[n]}')\n",
        "    \n",
        "t = int(input())\n",
        "\n",
        "for _ in range(t):\n",
        "  fibo(int(input()))"
      ],
      "metadata": {
        "id": "wI27MaK087Gk",
        "colab": {
          "base_uri": "https://localhost:8080/"
        },
        "outputId": "0a70cc3a-6683-4451-8967-049d4c8c8a36"
      },
      "execution_count": 1,
      "outputs": [
        {
          "output_type": "stream",
          "name": "stdout",
          "text": [
            "2\n",
            "6\n",
            "5 8\n",
            "22\n",
            "10946 17711\n"
          ]
        }
      ]
    }
  ]
}