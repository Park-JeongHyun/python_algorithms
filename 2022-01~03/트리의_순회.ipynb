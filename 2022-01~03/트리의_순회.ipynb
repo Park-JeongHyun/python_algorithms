{
  "nbformat": 4,
  "nbformat_minor": 0,
  "metadata": {
    "colab": {
      "name": "트리의 순회",
      "provenance": [],
      "authorship_tag": "ABX9TyO197KkCyGXx1LdhJlIHL3M",
      "include_colab_link": true
    },
    "kernelspec": {
      "name": "python3",
      "display_name": "Python 3"
    },
    "language_info": {
      "name": "python"
    }
  },
  "cells": [
    {
      "cell_type": "markdown",
      "metadata": {
        "id": "view-in-github",
        "colab_type": "text"
      },
      "source": [
        "<a href=\"https://colab.research.google.com/github/Park-JeongHyun/python_algorithms/blob/study/%ED%8A%B8%EB%A6%AC%EC%9D%98_%EC%88%9C%ED%9A%8C.ipynb\" target=\"_parent\"><img src=\"https://colab.research.google.com/assets/colab-badge.svg\" alt=\"Open In Colab\"/></a>"
      ]
    },
    {
      "cell_type": "markdown",
      "source": [
        "문제 2263"
      ],
      "metadata": {
        "id": "sQfdHzj6kZvB"
      }
    },
    {
      "cell_type": "code",
      "source": [
        "import sys\n",
        "sys.setrecursionlimit(10**6)\n",
        "n = int(input())\n",
        "in_order = list(map(int, input().split())) \n",
        "post_order = list(map(int, input().split())) \n",
        "\n",
        "pos = [0]*(n+1) \n",
        "for i in range(n): \n",
        "    pos[in_order[i]] = i \n",
        "    \n",
        "# 전위 순회 \n",
        "def solve(in_start, in_end, p_start, p_end): \n",
        "    \n",
        "    if(in_start > in_end) or (p_start > p_end): \n",
        "        return \n",
        "    \n",
        "    parents = post_order[p_end] # 후위순회에서 부모노드 찾기 \n",
        "    print(parents, end=\" \") \n",
        "    \n",
        "    left = pos[parents] - in_start # 왼쪽인자 갯수 \n",
        "    right = in_end - pos[parents] # 오른쪽인자 갯수 \n",
        "    \n",
        "    solve(in_start, in_start+left-1, p_start, p_start+left-1) # 왼쪽 노드 \n",
        "    solve(in_end-right+1, in_end, p_end-right, p_end-1) # 오른쪽 노드 \n",
        "    \n",
        "solve(0, n-1, 0, n-1)"
      ],
      "metadata": {
        "id": "wI27MaK087Gk"
      },
      "execution_count": null,
      "outputs": []
    }
  ]
}