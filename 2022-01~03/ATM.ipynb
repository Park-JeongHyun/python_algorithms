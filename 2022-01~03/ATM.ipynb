{
  "nbformat": 4,
  "nbformat_minor": 0,
  "metadata": {
    "colab": {
      "name": "ATM",
      "provenance": [],
      "authorship_tag": "ABX9TyML96KzZ1hB4no5ihizGasu",
      "include_colab_link": true
    },
    "kernelspec": {
      "name": "python3",
      "display_name": "Python 3"
    },
    "language_info": {
      "name": "python"
    }
  },
  "cells": [
    {
      "cell_type": "markdown",
      "metadata": {
        "id": "view-in-github",
        "colab_type": "text"
      },
      "source": [
        "<a href=\"https://colab.research.google.com/github/Park-JeongHyun/python_algorithms/blob/study/ATM.ipynb\" target=\"_parent\"><img src=\"https://colab.research.google.com/assets/colab-badge.svg\" alt=\"Open In Colab\"/></a>"
      ]
    },
    {
      "cell_type": "markdown",
      "source": [
        "문제 11399"
      ],
      "metadata": {
        "id": "sQfdHzj6kZvB"
      }
    },
    {
      "cell_type": "code",
      "source": [
        "n = int(input())\n",
        "\n",
        "a = list(map(int, input().split()))\n",
        "\n",
        "a.sort()\n",
        "\n",
        "sum = 0\n",
        "\n",
        "for i in range(len(a)):\n",
        "  sum += a[i]*(len(a)-i)\n",
        "\n",
        "print(sum)"
      ],
      "metadata": {
        "id": "wI27MaK087Gk"
      },
      "execution_count": null,
      "outputs": []
    }
  ]
}