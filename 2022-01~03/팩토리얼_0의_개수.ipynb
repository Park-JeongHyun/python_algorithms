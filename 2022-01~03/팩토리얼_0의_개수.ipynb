{
  "nbformat": 4,
  "nbformat_minor": 0,
  "metadata": {
    "colab": {
      "name": "팩토리얼 0의 개수",
      "provenance": [],
      "authorship_tag": "ABX9TyN8mj45y8c94yuAho8hfTIM",
      "include_colab_link": true
    },
    "kernelspec": {
      "name": "python3",
      "display_name": "Python 3"
    },
    "language_info": {
      "name": "python"
    }
  },
  "cells": [
    {
      "cell_type": "markdown",
      "metadata": {
        "id": "view-in-github",
        "colab_type": "text"
      },
      "source": [
        "<a href=\"https://colab.research.google.com/github/Park-JeongHyun/python_algorithms/blob/study/%ED%8C%A9%ED%86%A0%EB%A6%AC%EC%96%BC_0%EC%9D%98_%EA%B0%9C%EC%88%98.ipynb\" target=\"_parent\"><img src=\"https://colab.research.google.com/assets/colab-badge.svg\" alt=\"Open In Colab\"/></a>"
      ]
    },
    {
      "cell_type": "markdown",
      "source": [
        "문제 1676"
      ],
      "metadata": {
        "id": "sQfdHzj6kZvB"
      }
    },
    {
      "cell_type": "code",
      "source": [
        "from sys import stdin\n",
        "from collections import deque\n",
        "\n",
        "n = int(stdin.readline())\n",
        "result = 1\n",
        "\n",
        "for i in range(1,n+1):\n",
        "  result *= i\n",
        "\n",
        "a = str(result)\n",
        "q = deque()\n",
        "for i in a:\n",
        "  q.appendleft(i)\n",
        "\n",
        "\n",
        "cnt = 0\n",
        "for i in q:\n",
        "  if i == '0':\n",
        "    cnt +=1\n",
        "  if i != '0':\n",
        "    break\n",
        "\n",
        "print(cnt)"
      ],
      "metadata": {
        "id": "wI27MaK087Gk"
      },
      "execution_count": null,
      "outputs": []
    }
  ]
}