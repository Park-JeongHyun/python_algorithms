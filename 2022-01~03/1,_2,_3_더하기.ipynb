{
  "nbformat": 4,
  "nbformat_minor": 0,
  "metadata": {
    "colab": {
      "name": "1, 2, 3 더하기",
      "provenance": [],
      "authorship_tag": "ABX9TyOBZ0kSpmurejYdz3RiVrs6",
      "include_colab_link": true
    },
    "kernelspec": {
      "name": "python3",
      "display_name": "Python 3"
    },
    "language_info": {
      "name": "python"
    }
  },
  "cells": [
    {
      "cell_type": "markdown",
      "metadata": {
        "id": "view-in-github",
        "colab_type": "text"
      },
      "source": [
        "<a href=\"https://colab.research.google.com/github/Park-JeongHyun/python_algorithms/blob/study/1%2C_2%2C_3_%EB%8D%94%ED%95%98%EA%B8%B0.ipynb\" target=\"_parent\"><img src=\"https://colab.research.google.com/assets/colab-badge.svg\" alt=\"Open In Colab\"/></a>"
      ]
    },
    {
      "cell_type": "markdown",
      "source": [
        "문제 9095"
      ],
      "metadata": {
        "id": "sQfdHzj6kZvB"
      }
    },
    {
      "cell_type": "code",
      "source": [
        "t = int(input())\n",
        "\n",
        "def sol(n) : \n",
        "    if n == 1 :\n",
        "        return 1\n",
        "    \n",
        "    elif n == 2 :\n",
        "        return 2\n",
        "    \n",
        "    elif n == 3 :\n",
        "        return 4\n",
        "    \n",
        "    else :\n",
        "        return sol(n-1) + sol(n-2) + sol(n-3)\n",
        "\n",
        "for i in range(t) : \n",
        "    n = int(input())\n",
        "    print(sol(n))"
      ],
      "metadata": {
        "id": "wI27MaK087Gk"
      },
      "execution_count": null,
      "outputs": []
    }
  ]
}