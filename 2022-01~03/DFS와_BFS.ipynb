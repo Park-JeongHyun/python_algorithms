{
  "nbformat": 4,
  "nbformat_minor": 0,
  "metadata": {
    "colab": {
      "name": "DFS와 BFS",
      "provenance": [],
      "authorship_tag": "ABX9TyN9nVSaGdz04mc5io4k37MJ",
      "include_colab_link": true
    },
    "kernelspec": {
      "name": "python3",
      "display_name": "Python 3"
    },
    "language_info": {
      "name": "python"
    }
  },
  "cells": [
    {
      "cell_type": "markdown",
      "metadata": {
        "id": "view-in-github",
        "colab_type": "text"
      },
      "source": [
        "<a href=\"https://colab.research.google.com/github/Park-JeongHyun/python_algorithms/blob/study/DFS%EC%99%80_BFS.ipynb\" target=\"_parent\"><img src=\"https://colab.research.google.com/assets/colab-badge.svg\" alt=\"Open In Colab\"/></a>"
      ]
    },
    {
      "cell_type": "markdown",
      "source": [
        "문제 1260"
      ],
      "metadata": {
        "id": "sQfdHzj6kZvB"
      }
    },
    {
      "cell_type": "markdown",
      "source": [
        "input()을 썼을 때 시간은 640ms가 걸렸지만 <br>\n",
        "stdin.readline() 의 경우 244ms가 나옴"
      ],
      "metadata": {
        "id": "vfOnhm_P5ZMg"
      }
    },
    {
      "cell_type": "code",
      "source": [
        "from collections import deque\n",
        "from sys import stdin\n",
        "\n",
        "n, m, v = map(int, stdin.readline().split())\n",
        "a = [[0] * (n+1) for _ in range(n+1)]\n",
        "visited = [0] * (n+1)\n",
        "\n",
        "for _ in range(m):\n",
        "  x, y = map(int, stdin.readline().split())\n",
        "  a[x][y] = a[y][x] = 1\n",
        "\n",
        "def dfs(v):\n",
        "  visited[v] = 1\n",
        "  print(v, end=' ')\n",
        "  for i in range(n+1):\n",
        "    if visited[i] == 0 and a[v][i] == 1:\n",
        "      visited[i] = 1\n",
        "      dfs(i)\n",
        "\n",
        "def bfs(v):\n",
        "  visited = [0] * (n+1)\n",
        "  visited[v] = 1\n",
        "  queue = deque()\n",
        "  queue.append(v)\n",
        "\n",
        "  while queue:\n",
        "    p = queue.popleft()\n",
        "    print(p, end=' ')\n",
        "    for i in range(n+1):\n",
        "      if visited[i] == 0 and a[p][i] == 1:\n",
        "        visited[i] = 1\n",
        "        queue.append(i)\n",
        "\n",
        "dfs(v)\n",
        "print()\n",
        "bfs(v)"
      ],
      "metadata": {
        "id": "wI27MaK087Gk"
      },
      "execution_count": null,
      "outputs": []
    }
  ]
}