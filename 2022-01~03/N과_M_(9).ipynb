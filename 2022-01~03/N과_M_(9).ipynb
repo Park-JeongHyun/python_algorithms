{
  "nbformat": 4,
  "nbformat_minor": 0,
  "metadata": {
    "colab": {
      "name": "N과 M (9)",
      "provenance": [],
      "authorship_tag": "ABX9TyOEWzB6pwY0jMas0C3HxMwi",
      "include_colab_link": true
    },
    "kernelspec": {
      "name": "python3",
      "display_name": "Python 3"
    },
    "language_info": {
      "name": "python"
    }
  },
  "cells": [
    {
      "cell_type": "markdown",
      "metadata": {
        "id": "view-in-github",
        "colab_type": "text"
      },
      "source": [
        "<a href=\"https://colab.research.google.com/github/Park-JeongHyun/python_algorithms/blob/study/N%EA%B3%BC_M_(9).ipynb\" target=\"_parent\"><img src=\"https://colab.research.google.com/assets/colab-badge.svg\" alt=\"Open In Colab\"/></a>"
      ]
    },
    {
      "cell_type": "markdown",
      "source": [
        "문제 15663"
      ],
      "metadata": {
        "id": "sQfdHzj6kZvB"
      }
    },
    {
      "cell_type": "code",
      "source": [
        "n, m = map(int, input().split())\n",
        "a = list(map(int, input().split()))\n",
        "\n",
        "a.sort()\n",
        "visited = [False] * n\n",
        "out = []\n",
        "\n",
        "def solve(depth, n, m):\n",
        "    if depth == m:\n",
        "        print(' '.join(map(str, out)))\n",
        "        return\n",
        "    overlap = 0\n",
        "    for i in range(n):\n",
        "        if not visited[i] and overlap != a[i]:\n",
        "            out.append(a[i])\n",
        "            visited[i] = True\n",
        "            overlap = a[i]\n",
        "            solve(depth+1, n, m)\n",
        "            out.pop()\n",
        "            visited[i] = False\n",
        "            \n",
        "\n",
        "solve(0, n, m)"
      ],
      "metadata": {
        "id": "wI27MaK087Gk"
      },
      "execution_count": null,
      "outputs": []
    }
  ]
}