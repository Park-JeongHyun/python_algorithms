{
  "nbformat": 4,
  "nbformat_minor": 0,
  "metadata": {
    "colab": {
      "name": "덩치",
      "provenance": [],
      "authorship_tag": "ABX9TyPnBENOdhXoIksel2drwLO3",
      "include_colab_link": true
    },
    "kernelspec": {
      "name": "python3",
      "display_name": "Python 3"
    },
    "language_info": {
      "name": "python"
    }
  },
  "cells": [
    {
      "cell_type": "markdown",
      "metadata": {
        "id": "view-in-github",
        "colab_type": "text"
      },
      "source": [
        "<a href=\"https://colab.research.google.com/github/Park-JeongHyun/python_algorithms/blob/study/%EB%8D%A9%EC%B9%98.ipynb\" target=\"_parent\"><img src=\"https://colab.research.google.com/assets/colab-badge.svg\" alt=\"Open In Colab\"/></a>"
      ]
    },
    {
      "cell_type": "markdown",
      "source": [
        "문제 7568"
      ],
      "metadata": {
        "id": "sQfdHzj6kZvB"
      }
    },
    {
      "cell_type": "code",
      "source": [
        "n = int(input())\n",
        "a = []\n",
        "\n",
        "for _ in range(n):\n",
        "  x, y = map(int, input().split())\n",
        "\n",
        "  a.append((x,y))\n",
        "\n",
        "for i in a:\n",
        "  rank = 1\n",
        "  for j in a:\n",
        "    if i[0] < j[0] and i[1] < j[1]:\n",
        "      rank += 1\n",
        "    \n",
        "  print(rank, end=' ')\n"
      ],
      "metadata": {
        "id": "wI27MaK087Gk"
      },
      "execution_count": null,
      "outputs": []
    }
  ]
}