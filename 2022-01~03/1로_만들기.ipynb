{
  "nbformat": 4,
  "nbformat_minor": 0,
  "metadata": {
    "colab": {
      "name": "1로 만들기",
      "provenance": [],
      "authorship_tag": "ABX9TyMnD9Ns86UNqdHw3PDCLADW",
      "include_colab_link": true
    },
    "kernelspec": {
      "name": "python3",
      "display_name": "Python 3"
    },
    "language_info": {
      "name": "python"
    }
  },
  "cells": [
    {
      "cell_type": "markdown",
      "metadata": {
        "id": "view-in-github",
        "colab_type": "text"
      },
      "source": [
        "<a href=\"https://colab.research.google.com/github/Park-JeongHyun/python_algorithms/blob/study/1%EB%A1%9C_%EB%A7%8C%EB%93%A4%EA%B8%B0.ipynb\" target=\"_parent\"><img src=\"https://colab.research.google.com/assets/colab-badge.svg\" alt=\"Open In Colab\"/></a>"
      ]
    },
    {
      "cell_type": "markdown",
      "source": [
        "문제 1463"
      ],
      "metadata": {
        "id": "sQfdHzj6kZvB"
      }
    },
    {
      "cell_type": "code",
      "source": [
        "from sys import stdin\n",
        "\n",
        "n = int(stdin.readline())\n",
        "a = [0,0,1,1]\n",
        "\n",
        "for i in range(4, n+1):\n",
        "  a.append(a[i-1]+1)\n",
        "  \n",
        "  if i%2 == 0:\n",
        "    a[i] = min(a[i], a[i//2] + 1)\n",
        "  \n",
        "  if i%3 == 0:\n",
        "    a[i] = min(a[i], a[i//3] + 1)\n",
        "\n",
        "print(a[n])\n"
      ],
      "metadata": {
        "id": "wI27MaK087Gk"
      },
      "execution_count": null,
      "outputs": []
    }
  ]
}