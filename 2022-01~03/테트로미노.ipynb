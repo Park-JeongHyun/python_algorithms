{
  "nbformat": 4,
  "nbformat_minor": 0,
  "metadata": {
    "colab": {
      "name": "테트로미노",
      "provenance": [],
      "authorship_tag": "ABX9TyOQWz2+awgkn1yjA7TP71bX",
      "include_colab_link": true
    },
    "kernelspec": {
      "name": "python3",
      "display_name": "Python 3"
    },
    "language_info": {
      "name": "python"
    }
  },
  "cells": [
    {
      "cell_type": "markdown",
      "metadata": {
        "id": "view-in-github",
        "colab_type": "text"
      },
      "source": [
        "<a href=\"https://colab.research.google.com/github/Park-JeongHyun/python_algorithms/blob/study/%ED%85%8C%ED%8A%B8%EB%A1%9C%EB%AF%B8%EB%85%B8.ipynb\" target=\"_parent\"><img src=\"https://colab.research.google.com/assets/colab-badge.svg\" alt=\"Open In Colab\"/></a>"
      ]
    },
    {
      "cell_type": "markdown",
      "source": [
        "문제 14500"
      ],
      "metadata": {
        "id": "sQfdHzj6kZvB"
      }
    },
    {
      "cell_type": "code",
      "source": [
        "import sys\n",
        "input = lambda : sys.stdin.readline()\n",
        "\n",
        "move = [(-1,0),(1,0),(0,-1),(0,1)]\n",
        "def dfs(r, c, depth, s):\n",
        "    global max_value\n",
        "    if s + maxv*(4-depth) <= max_value:\n",
        "        return        \n",
        "    if depth >= 4:\n",
        "        if max_value < s:\n",
        "            max_value = s\n",
        "        return\n",
        "    else:\n",
        "        for dr, dc in move:\n",
        "            nr, nc = r + dr, c + dc\n",
        "            if 0 <= nr < n and 0 <= nc < m and visited[nr][nc] == 0:\n",
        "                if depth == 2:\n",
        "                    visited[nr][nc] = 1\n",
        "                    dfs(r, c, depth + 1, s + board[nr][nc])\n",
        "                    visited[nr][nc] = 0\n",
        "\n",
        "                visited[nr][nc] = 1\n",
        "                dfs(nr, nc, depth + 1, s + board[nr][nc])\n",
        "                visited[nr][nc] = 0\n",
        "\n",
        "\n",
        "n, m = map(int, input().split())\n",
        "board = [list(map(int, input().split())) for _ in range(n)]\n",
        "\n",
        "maxv = max(map(max, board))\n",
        "\n",
        "max_value = 0\n",
        "visited = [[0]*m for _ in range(n)]\n",
        "for i in range(n):\n",
        "    for j in range(m):\n",
        "        visited[i][j] = 1\n",
        "        dfs(i,j,1,board[i][j])\n",
        "        visited[i][j] = 0\n",
        "\n",
        "print(max_value)"
      ],
      "metadata": {
        "id": "wI27MaK087Gk"
      },
      "execution_count": null,
      "outputs": []
    }
  ]
}