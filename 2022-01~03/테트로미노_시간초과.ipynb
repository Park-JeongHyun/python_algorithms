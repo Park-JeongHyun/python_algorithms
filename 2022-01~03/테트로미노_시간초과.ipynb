{
  "nbformat": 4,
  "nbformat_minor": 0,
  "metadata": {
    "colab": {
      "name": "테트로미노..시간초과",
      "provenance": [],
      "authorship_tag": "ABX9TyOeQxcD6gwbASeQTmGfq+k/",
      "include_colab_link": true
    },
    "kernelspec": {
      "name": "python3",
      "display_name": "Python 3"
    },
    "language_info": {
      "name": "python"
    }
  },
  "cells": [
    {
      "cell_type": "markdown",
      "metadata": {
        "id": "view-in-github",
        "colab_type": "text"
      },
      "source": [
        "<a href=\"https://colab.research.google.com/github/Park-JeongHyun/python_algorithms/blob/study/%ED%85%8C%ED%8A%B8%EB%A1%9C%EB%AF%B8%EB%85%B8_%EC%8B%9C%EA%B0%84%EC%B4%88%EA%B3%BC.ipynb\" target=\"_parent\"><img src=\"https://colab.research.google.com/assets/colab-badge.svg\" alt=\"Open In Colab\"/></a>"
      ]
    },
    {
      "cell_type": "markdown",
      "source": [
        "문제 14500"
      ],
      "metadata": {
        "id": "sQfdHzj6kZvB"
      }
    },
    {
      "cell_type": "code",
      "source": [
        "from sys import stdin\n",
        "input = stdin.readline\n",
        "\n",
        "n, m = map(int, input().split())\n",
        "a = [list(map(int, input().split())) for _ in range(n)]\n",
        "visited = [[0] * m for _ in range(n)]\n",
        "result = 0\n",
        "\n",
        "dx = [1, -1, 0, 0]\n",
        "dy = [0, 0, 1, -1]\n",
        "\n",
        "#  -------------------------\n",
        "\n",
        "def dfs(y, x, cnt, value):\n",
        "  # visited[y][x] = 1\n",
        "  global result\n",
        "  if cnt == 4:\n",
        "    result = max(result, value)\n",
        "    return\n",
        "    # return a[y][x]\n",
        "\n",
        "  for i in range(4):\n",
        "    nx = x + dx[i]\n",
        "    ny = y + dy[i]\n",
        "    if 0 <= nx < m and 0 <= ny < n and visited[ny][nx] == 0:\n",
        "      visited[ny][nx] = 1\n",
        "      dfs(ny, nx, cnt+1, value + a[ny][nx])\n",
        "      # result = max(result, a[y][x] + dfs(ny, nx, cnt+1, result))\n",
        "      visited[ny][nx] = 0\n",
        "  # visited[y][x] = 0\n",
        "  return result\n",
        "\n",
        "  # -------------------------\n",
        "\n",
        "def ect(y, x):\n",
        "  temp = []\n",
        "  summ = a[y][x]\n",
        "  for i in range(4):\n",
        "    nx = x + dx[i]\n",
        "    ny = y + dy[i]\n",
        "    if 0 <= nx < m and 0 <= ny < n:\n",
        "      temp.append(a[ny][nx])\n",
        "  if len(temp) == 4:\n",
        "    summ = summ + sum(temp) - min(temp)\n",
        "  else:\n",
        "    summ = summ + sum(temp)\n",
        "\n",
        "  return summ  \n",
        "\n",
        "# ----------------------------\n",
        "\n",
        "result2 = -1\n",
        "for i in range(n):\n",
        "  for j in range(m):\n",
        "    visited[i][j] = 1\n",
        "    result2 = max(result2, dfs(i, j, 1, a[i][j]), ect(i,j))\n",
        "    visited[i][j] = 0\n",
        "\n",
        "print(result2)"
      ],
      "metadata": {
        "id": "wI27MaK087Gk"
      },
      "execution_count": null,
      "outputs": []
    }
  ]
}