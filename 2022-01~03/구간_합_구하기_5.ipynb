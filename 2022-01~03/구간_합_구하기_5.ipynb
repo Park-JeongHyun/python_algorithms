{
  "nbformat": 4,
  "nbformat_minor": 0,
  "metadata": {
    "colab": {
      "name": "구간 합 구하기 5",
      "provenance": [],
      "authorship_tag": "ABX9TyOvD0sCbz/HcXzcIf6nU4ud",
      "include_colab_link": true
    },
    "kernelspec": {
      "name": "python3",
      "display_name": "Python 3"
    },
    "language_info": {
      "name": "python"
    }
  },
  "cells": [
    {
      "cell_type": "markdown",
      "metadata": {
        "id": "view-in-github",
        "colab_type": "text"
      },
      "source": [
        "<a href=\"https://colab.research.google.com/github/Park-JeongHyun/python_algorithms/blob/main/%EA%B5%AC%EA%B0%84_%ED%95%A9_%EA%B5%AC%ED%95%98%EA%B8%B0_5.ipynb\" target=\"_parent\"><img src=\"https://colab.research.google.com/assets/colab-badge.svg\" alt=\"Open In Colab\"/></a>"
      ]
    },
    {
      "cell_type": "markdown",
      "source": [
        "문제 11660"
      ],
      "metadata": {
        "id": "sQfdHzj6kZvB"
      }
    },
    {
      "cell_type": "code",
      "source": [
        "import sys\n",
        "input = sys.stdin.readline\n",
        "n, m = map(int, input().split())\n",
        "\n",
        "a = [list(map(int, input().split())) for _ in range(n)]\n",
        "dp = [[0 for _ in range(n+1)] for _ in range(n+1)]\n",
        "\n",
        "for i in range(n):\n",
        "  for j in range(n):\n",
        "    dp[i+1][j+1] = dp[i+1][j] + dp[i][j+1] - dp[i][j] + a[i][j]\n",
        "\n",
        "for i in range(m):\n",
        "    x1, y1, x2, y2 = map(int, input().split())\n",
        "    print(dp[x2][y2] - dp[x1 - 1][y2] - dp[x2][y1 - 1] + dp[x1 - 1][y1 - 1])"
      ],
      "metadata": {
        "id": "wI27MaK087Gk"
      },
      "execution_count": null,
      "outputs": []
    }
  ]
}