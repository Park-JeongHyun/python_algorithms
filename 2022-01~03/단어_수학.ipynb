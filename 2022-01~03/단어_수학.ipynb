{
  "nbformat": 4,
  "nbformat_minor": 0,
  "metadata": {
    "colab": {
      "name": "단어 수학",
      "provenance": [],
      "authorship_tag": "ABX9TyPmnylUrM+rIguhZdtcvlxW",
      "include_colab_link": true
    },
    "kernelspec": {
      "name": "python3",
      "display_name": "Python 3"
    },
    "language_info": {
      "name": "python"
    }
  },
  "cells": [
    {
      "cell_type": "markdown",
      "metadata": {
        "id": "view-in-github",
        "colab_type": "text"
      },
      "source": [
        "<a href=\"https://colab.research.google.com/github/Park-JeongHyun/python_algorithms/blob/main/%EB%8B%A8%EC%96%B4_%EC%88%98%ED%95%99.ipynb\" target=\"_parent\"><img src=\"https://colab.research.google.com/assets/colab-badge.svg\" alt=\"Open In Colab\"/></a>"
      ]
    },
    {
      "cell_type": "markdown",
      "source": [
        "문제 1339"
      ],
      "metadata": {
        "id": "sQfdHzj6kZvB"
      }
    },
    {
      "cell_type": "code",
      "source": [
        "n = int(input())\n",
        "alphabet = {'A':0, 'B':0, 'C':0, 'D':0, 'E':0, 'F':0, 'G':0, 'H':0, 'I':0, 'J':0, 'K':0, 'L':0, 'M':0, 'N':0, 'O':0, 'P':0, 'Q':0, 'R':0, 'S':0, 'T':0, 'U':0, 'V':0, 'W':0, 'X':0, 'Y':0, 'Z':0}\n",
        "alphabet_list = []\n",
        "result = 0\n",
        "a = []\n",
        "\n",
        "for _ in range(n):\n",
        "  a.append(list(input().strip()))\n",
        "\n",
        "for i in a:\n",
        "  for j in range(len(i)):\n",
        "    num = 10 ** (len(i) -j -1)\n",
        "    alphabet[i[j]] += num\n",
        "\n",
        "for k in alphabet.values():\n",
        "  if k > 0:\n",
        "    alphabet_list.append(k)\n",
        "\n",
        "sorted_list = sorted(alphabet_list, reverse = True)\n",
        "for i in range(len(sorted_list)):\n",
        "  result += sorted_list[i] * (9-i)\n",
        "\n",
        "print(result)"
      ],
      "metadata": {
        "id": "wI27MaK087Gk"
      },
      "execution_count": null,
      "outputs": []
    }
  ]
}