{
  "nbformat": 4,
  "nbformat_minor": 0,
  "metadata": {
    "colab": {
      "name": "파도반 수열",
      "provenance": [],
      "authorship_tag": "ABX9TyObRUHhi9TzJKyxP1zDkXVs",
      "include_colab_link": true
    },
    "kernelspec": {
      "name": "python3",
      "display_name": "Python 3"
    },
    "language_info": {
      "name": "python"
    }
  },
  "cells": [
    {
      "cell_type": "markdown",
      "metadata": {
        "id": "view-in-github",
        "colab_type": "text"
      },
      "source": [
        "<a href=\"https://colab.research.google.com/github/Park-JeongHyun/python_algorithms/blob/study/%ED%8C%8C%EB%8F%84%EB%B0%98_%EC%88%98%EC%97%B4.ipynb\" target=\"_parent\"><img src=\"https://colab.research.google.com/assets/colab-badge.svg\" alt=\"Open In Colab\"/></a>"
      ]
    },
    {
      "cell_type": "markdown",
      "source": [
        "문제 9461"
      ],
      "metadata": {
        "id": "sQfdHzj6kZvB"
      }
    },
    {
      "cell_type": "code",
      "source": [
        "from sys import stdin\n",
        "t = int(stdin.readline())\n",
        "\n",
        "for _ in range(t):\n",
        "  n = int(stdin.readline())\n",
        "\n",
        "  a = [0 for _ in range(n+4)]\n",
        "\n",
        "  a[1] = 1\n",
        "  a[2] = 1\n",
        "  a[3] = 1\n",
        "\n",
        "  for i in range(4, n+1):\n",
        "    a[i] = a[i-2] + a[i-3]\n",
        "\n",
        "  print(a[n])"
      ],
      "metadata": {
        "id": "wI27MaK087Gk"
      },
      "execution_count": null,
      "outputs": []
    }
  ]
}