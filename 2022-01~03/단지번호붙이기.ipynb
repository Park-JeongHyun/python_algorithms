{
  "nbformat": 4,
  "nbformat_minor": 0,
  "metadata": {
    "colab": {
      "name": "단지번호붙이기",
      "provenance": [],
      "authorship_tag": "ABX9TyPzygcdAf4MFuF41dJ72naz",
      "include_colab_link": true
    },
    "kernelspec": {
      "name": "python3",
      "display_name": "Python 3"
    },
    "language_info": {
      "name": "python"
    }
  },
  "cells": [
    {
      "cell_type": "markdown",
      "metadata": {
        "id": "view-in-github",
        "colab_type": "text"
      },
      "source": [
        "<a href=\"https://colab.research.google.com/github/Park-JeongHyun/python_algorithms/blob/study/%EB%8B%A8%EC%A7%80%EB%B2%88%ED%98%B8%EB%B6%99%EC%9D%B4%EA%B8%B0.ipynb\" target=\"_parent\"><img src=\"https://colab.research.google.com/assets/colab-badge.svg\" alt=\"Open In Colab\"/></a>"
      ]
    },
    {
      "cell_type": "markdown",
      "source": [
        "문제 2667"
      ],
      "metadata": {
        "id": "sQfdHzj6kZvB"
      }
    },
    {
      "cell_type": "code",
      "source": [
        "from collections import deque\n",
        "\n",
        "dx = [0, 0, 1, -1]\n",
        "dy = [1, -1, 0, 0]\n",
        "\n",
        "\n",
        "def bfs(graph, a, b):\n",
        "    n = len(graph)\n",
        "    queue = deque()\n",
        "    queue.append((a, b))\n",
        "    graph[a][b] = 0\n",
        "    count = 1\n",
        "\n",
        "    while queue:\n",
        "        x, y = queue.popleft()\n",
        "        for i in range(4):\n",
        "            nx = x + dx[i]\n",
        "            ny = y + dy[i]\n",
        "            if nx < 0 or nx >= n or ny < 0 or ny >= n:\n",
        "                continue\n",
        "            if graph[nx][ny] == 1:\n",
        "                graph[nx][ny] = 0\n",
        "                queue.append((nx, ny))\n",
        "                count += 1\n",
        "    return count\n",
        "\n",
        "\n",
        "n = int(input())\n",
        "graph = []\n",
        "for i in range(n):\n",
        "    graph.append(list(map(int, input())))\n",
        "\n",
        "cnt = []\n",
        "for i in range(n):\n",
        "    for j in range(n):\n",
        "        if graph[i][j] == 1:\n",
        "            cnt.append(bfs(graph, i, j))\n",
        "\n",
        "cnt.sort()\n",
        "print(len(cnt))\n",
        "for i in range(len(cnt)):\n",
        "    print(cnt[i])"
      ],
      "metadata": {
        "id": "wI27MaK087Gk"
      },
      "execution_count": null,
      "outputs": []
    }
  ]
}