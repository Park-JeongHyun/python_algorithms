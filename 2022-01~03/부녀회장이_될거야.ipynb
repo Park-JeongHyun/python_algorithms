{
  "nbformat": 4,
  "nbformat_minor": 0,
  "metadata": {
    "colab": {
      "name": "부녀회장이 될거야 ",
      "provenance": [],
      "authorship_tag": "ABX9TyPM8Sv6w15dNOo2NP1xj9sK",
      "include_colab_link": true
    },
    "kernelspec": {
      "name": "python3",
      "display_name": "Python 3"
    },
    "language_info": {
      "name": "python"
    }
  },
  "cells": [
    {
      "cell_type": "markdown",
      "metadata": {
        "id": "view-in-github",
        "colab_type": "text"
      },
      "source": [
        "<a href=\"https://colab.research.google.com/github/Park-JeongHyun/python_algorithms/blob/study/%EB%B6%80%EB%85%80%ED%9A%8C%EC%9E%A5%EC%9D%B4_%EB%90%A0%EA%B1%B0%EC%95%BC.ipynb\" target=\"_parent\"><img src=\"https://colab.research.google.com/assets/colab-badge.svg\" alt=\"Open In Colab\"/></a>"
      ]
    },
    {
      "cell_type": "markdown",
      "source": [
        "문제 2775"
      ],
      "metadata": {
        "id": "sQfdHzj6kZvB"
      }
    },
    {
      "cell_type": "code",
      "source": [
        "# 0    1 2  3  4  5  6  7  8  9\n",
        "# 1    1 3  6 10 15 21 28 36 45\n",
        "# 2    1 4 10 20 35 56 84 120 \n",
        "# 3    1 5 15 35 70 117\n",
        "# 4    1 6 21 56 126\n",
        "\n",
        "t = int(input())\n",
        "for i in range(t):\n",
        "  floor = int(input())\n",
        "  num = int(input())\n",
        "\n",
        "  numList = []\n",
        "  for p in range(floor+1):\n",
        "    numList.append([1])\n",
        "    k = 1\n",
        "    for j in range(num):\n",
        "      if p == 0:\n",
        "        k += 1\n",
        "        numList[p].append(k)\n",
        "        \n",
        "      else:\n",
        "        k += int(numList[p-1][j+1])\n",
        "        numList[p].append(k)\n",
        "\n",
        "  print(numList[floor][num-1])\n",
        "        "
      ],
      "metadata": {
        "colab": {
          "base_uri": "https://localhost:8080/"
        },
        "id": "wI27MaK087Gk",
        "outputId": "ed5977de-150e-4b1f-bd3b-8c01d4d15dc0"
      },
      "execution_count": 3,
      "outputs": [
        {
          "output_type": "stream",
          "name": "stdout",
          "text": [
            "2\n",
            "1\n",
            "3\n",
            "6\n",
            "2\n",
            "3\n",
            "10\n"
          ]
        }
      ]
    }
  ]
}