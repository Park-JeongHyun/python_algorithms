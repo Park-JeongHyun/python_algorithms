{
  "nbformat": 4,
  "nbformat_minor": 0,
  "metadata": {
    "colab": {
      "name": "최소 스패닝 트리",
      "provenance": [],
      "authorship_tag": "ABX9TyPcIooku3+v6I95pLChIqqs",
      "include_colab_link": true
    },
    "kernelspec": {
      "name": "python3",
      "display_name": "Python 3"
    },
    "language_info": {
      "name": "python"
    }
  },
  "cells": [
    {
      "cell_type": "markdown",
      "metadata": {
        "id": "view-in-github",
        "colab_type": "text"
      },
      "source": [
        "<a href=\"https://colab.research.google.com/github/Park-JeongHyun/python_algorithms/blob/main/%EC%B5%9C%EC%86%8C_%EC%8A%A4%ED%8C%A8%EB%8B%9D_%ED%8A%B8%EB%A6%AC.ipynb\" target=\"_parent\"><img src=\"https://colab.research.google.com/assets/colab-badge.svg\" alt=\"Open In Colab\"/></a>"
      ]
    },
    {
      "cell_type": "markdown",
      "source": [
        "문제 1197"
      ],
      "metadata": {
        "id": "qyl04bQ1eG4b"
      }
    },
    {
      "cell_type": "code",
      "source": [
        "import sys\n",
        "import heapq\n",
        "input = sys.stdin.readline\n",
        "\n",
        "v, e = map(int, input().split())\n",
        "visited = [False] * (v + 1)\n",
        "l = [[] for _ in range(v+1)]\n",
        "heap =[[0,1]]\n",
        "\n",
        "for _ in range(e):\n",
        "  s, e, w = map(int, input().split())\n",
        "  l[s].append([w,e])\n",
        "  l[e].append([w,s])\n",
        "\n",
        "answer = 0\n",
        "cnt = 0\n",
        "while heap:\n",
        "  if cnt == v:\n",
        "    break\n",
        "\n",
        "  w, s = heapq.heappop(heap)\n",
        "  if not visited[s]:\n",
        "    visited[s] = True\n",
        "    answer += w\n",
        "    cnt += 1\n",
        "    for i in l[s]:\n",
        "      heapq.heappush(heap, i)\n",
        "\n",
        "print(answer)"
      ],
      "metadata": {
        "id": "aiOB-7HueEH-"
      },
      "execution_count": null,
      "outputs": []
    }
  ]
}