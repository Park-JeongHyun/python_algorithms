{
  "nbformat": 4,
  "nbformat_minor": 0,
  "metadata": {
    "colab": {
      "name": "이진 검색 트리",
      "provenance": [],
      "authorship_tag": "ABX9TyOLRG/iNh//db1u4lCiePKI",
      "include_colab_link": true
    },
    "kernelspec": {
      "name": "python3",
      "display_name": "Python 3"
    },
    "language_info": {
      "name": "python"
    }
  },
  "cells": [
    {
      "cell_type": "markdown",
      "metadata": {
        "id": "view-in-github",
        "colab_type": "text"
      },
      "source": [
        "<a href=\"https://colab.research.google.com/github/Park-JeongHyun/python_algorithms/blob/main/%EC%9D%B4%EC%A7%84_%EA%B2%80%EC%83%89_%ED%8A%B8%EB%A6%AC.ipynb\" target=\"_parent\"><img src=\"https://colab.research.google.com/assets/colab-badge.svg\" alt=\"Open In Colab\"/></a>"
      ]
    },
    {
      "cell_type": "markdown",
      "source": [
        "문제 5639"
      ],
      "metadata": {
        "id": "sQfdHzj6kZvB"
      }
    },
    {
      "cell_type": "code",
      "source": [
        "import sys\n",
        "sys.setrecursionlimit(10 ** 6)\n",
        "input = sys.stdin.readline\n",
        "\n",
        "a = []\n",
        "while True:\n",
        "  try:\n",
        "    a.append(int(input()))\n",
        "  except:\n",
        "    break\n",
        "\n",
        "def postorder(left, right):\n",
        "  if left > right:\n",
        "    return\n",
        "  \n",
        "  else:\n",
        "    mid = right + 1\n",
        "    for i in range(left+1, right+1):\n",
        "      if a[left] < a[i]:\n",
        "        mid = i\n",
        "        break\n",
        "    postorder(left+1, mid-1)\n",
        "    postorder(mid, right)\n",
        "    print(a[left])\n",
        "\n",
        "postorder(0,len(a)-1)"
      ],
      "metadata": {
        "id": "wI27MaK087Gk"
      },
      "execution_count": null,
      "outputs": []
    }
  ]
}