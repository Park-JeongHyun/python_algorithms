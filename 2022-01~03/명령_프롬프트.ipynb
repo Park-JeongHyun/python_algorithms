{
  "nbformat": 4,
  "nbformat_minor": 0,
  "metadata": {
    "colab": {
      "name": "명령 프롬프트",
      "provenance": [],
      "authorship_tag": "ABX9TyNRH+28lcpalsoLcZ7UZw1E",
      "include_colab_link": true
    },
    "kernelspec": {
      "name": "python3",
      "display_name": "Python 3"
    },
    "language_info": {
      "name": "python"
    }
  },
  "cells": [
    {
      "cell_type": "markdown",
      "metadata": {
        "id": "view-in-github",
        "colab_type": "text"
      },
      "source": [
        "<a href=\"https://colab.research.google.com/github/Park-JeongHyun/python_algorithms/blob/main/%EB%AA%85%EB%A0%B9_%ED%94%84%EB%A1%AC%ED%94%84%ED%8A%B8.ipynb\" target=\"_parent\"><img src=\"https://colab.research.google.com/assets/colab-badge.svg\" alt=\"Open In Colab\"/></a>"
      ]
    },
    {
      "cell_type": "markdown",
      "source": [
        "문제 1032"
      ],
      "metadata": {
        "id": "qyl04bQ1eG4b"
      }
    },
    {
      "cell_type": "code",
      "source": [
        "n = int(input())\n",
        "a = [list(input()) for _ in range(n)]\n",
        "\n",
        "for i in range(n):\n",
        "  for j in range(len(a[0])):\n",
        "    if a[0][j] == a[i][j]:\n",
        "      continue\n",
        "    else:\n",
        "      a[0][j] = '?'\n",
        "\n",
        "for i in a[0]:\n",
        "  print(i, end='')"
      ],
      "metadata": {
        "id": "aiOB-7HueEH-"
      },
      "execution_count": null,
      "outputs": []
    }
  ]
}