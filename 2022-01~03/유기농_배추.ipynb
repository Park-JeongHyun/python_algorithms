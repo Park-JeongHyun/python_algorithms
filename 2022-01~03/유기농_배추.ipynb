{
  "nbformat": 4,
  "nbformat_minor": 0,
  "metadata": {
    "colab": {
      "name": "유기농 배추",
      "provenance": [],
      "authorship_tag": "ABX9TyPUeI8HhATFpmsXZVmo5m6b",
      "include_colab_link": true
    },
    "kernelspec": {
      "name": "python3",
      "display_name": "Python 3"
    },
    "language_info": {
      "name": "python"
    }
  },
  "cells": [
    {
      "cell_type": "markdown",
      "metadata": {
        "id": "view-in-github",
        "colab_type": "text"
      },
      "source": [
        "<a href=\"https://colab.research.google.com/github/Park-JeongHyun/python_algorithms/blob/study/%EC%9C%A0%EA%B8%B0%EB%86%8D_%EB%B0%B0%EC%B6%94.ipynb\" target=\"_parent\"><img src=\"https://colab.research.google.com/assets/colab-badge.svg\" alt=\"Open In Colab\"/></a>"
      ]
    },
    {
      "cell_type": "markdown",
      "source": [
        "문제 1012"
      ],
      "metadata": {
        "id": "sQfdHzj6kZvB"
      }
    },
    {
      "cell_type": "code",
      "source": [
        "from sys import stdin\n",
        "import sys\n",
        "sys.setrecursionlimit(10**6)\n",
        "\n",
        "t = int(stdin.readline())\n",
        "\n",
        "def func(x, y):\n",
        "  if x<0 or y<0 or x>=m or y>=n:\n",
        "    return False\n",
        "  \n",
        "  if graph[y][x] == 1:\n",
        "    graph[y][x] = 0\n",
        "    func(x-1, y)\n",
        "    func(x+1, y)\n",
        "    func(x, y-1)\n",
        "    func(x, y+1)\n",
        "    return True\n",
        "\n",
        "for _ in range(t):\n",
        "  graph = []\n",
        "  m, n ,k = map(int, stdin.readline().split())\n",
        "\n",
        "  graph = [[0] * m for _ in range(n)]\n",
        "\n",
        "  for i in range(k):\n",
        "    x, y = map(int, stdin.readline().split())\n",
        "    graph[y][x] = 1\n",
        "\n",
        "\n",
        "  cnt = 0\n",
        "  for i in range(m):\n",
        "    for j in range(n):\n",
        "      if func(i, j) == True:\n",
        "        cnt+=1\n",
        "\n",
        "  print(cnt)\n"
      ],
      "metadata": {
        "id": "wI27MaK087Gk"
      },
      "execution_count": null,
      "outputs": []
    }
  ]
}