{
  "nbformat": 4,
  "nbformat_minor": 0,
  "metadata": {
    "colab": {
      "name": "\b가장 긴 증가하는 부분 수열2",
      "provenance": [],
      "authorship_tag": "ABX9TyMqtln1uZgaqJbxeCuy5bFE",
      "include_colab_link": true
    },
    "kernelspec": {
      "name": "python3",
      "display_name": "Python 3"
    },
    "language_info": {
      "name": "python"
    }
  },
  "cells": [
    {
      "cell_type": "markdown",
      "metadata": {
        "id": "view-in-github",
        "colab_type": "text"
      },
      "source": [
        "<a href=\"https://colab.research.google.com/github/Park-JeongHyun/python_algorithms/blob/main/%08%EA%B0%80%EC%9E%A5_%EA%B8%B4_%EC%A6%9D%EA%B0%80%ED%95%98%EB%8A%94_%EB%B6%80%EB%B6%84_%EC%88%98%EC%97%B42.ipynb\" target=\"_parent\"><img src=\"https://colab.research.google.com/assets/colab-badge.svg\" alt=\"Open In Colab\"/></a>"
      ]
    },
    {
      "cell_type": "markdown",
      "source": [
        "문제 12015"
      ],
      "metadata": {
        "id": "qyl04bQ1eG4b"
      }
    },
    {
      "cell_type": "code",
      "source": [
        "import sys\n",
        "input = sys.stdin.readline\n",
        "\n",
        "n = int(input())\n",
        "a = list(map(int, input().split()))\n",
        "\n",
        "solve = [0]\n",
        "a2 = [0] + a\n",
        "\n",
        "for i in a2:\n",
        "  if solve[-1] < i:\n",
        "    solve.append(i)\n",
        "  else:\n",
        "    left = 0\n",
        "    right = len(solve)\n",
        "\n",
        "    while left < right:\n",
        "      mid = (left + right) // 2\n",
        "\n",
        "      if solve[mid] < i:\n",
        "        left = mid + 1\n",
        "      else:\n",
        "        right = mid\n",
        "    solve[right] = i\n",
        "\n",
        "print(len(solve) - 1)"
      ],
      "metadata": {
        "id": "aiOB-7HueEH-"
      },
      "execution_count": null,
      "outputs": []
    }
  ]
}