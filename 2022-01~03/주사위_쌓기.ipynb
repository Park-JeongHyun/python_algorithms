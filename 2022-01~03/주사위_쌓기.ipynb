{
  "nbformat": 4,
  "nbformat_minor": 0,
  "metadata": {
    "colab": {
      "name": "주사위 쌓기",
      "provenance": [],
      "authorship_tag": "ABX9TyMf+FoL9+2hWADYhVwpqx9a",
      "include_colab_link": true
    },
    "kernelspec": {
      "name": "python3",
      "display_name": "Python 3"
    },
    "language_info": {
      "name": "python"
    }
  },
  "cells": [
    {
      "cell_type": "markdown",
      "metadata": {
        "id": "view-in-github",
        "colab_type": "text"
      },
      "source": [
        "<a href=\"https://colab.research.google.com/github/Park-JeongHyun/python_algorithms/blob/main/%EC%A3%BC%EC%82%AC%EC%9C%84_%EC%8C%93%EA%B8%B0.ipynb\" target=\"_parent\"><img src=\"https://colab.research.google.com/assets/colab-badge.svg\" alt=\"Open In Colab\"/></a>"
      ]
    },
    {
      "cell_type": "markdown",
      "source": [
        "문제 2116"
      ],
      "metadata": {
        "id": "sQfdHzj6kZvB"
      }
    },
    {
      "cell_type": "code",
      "source": [
        "from collections import deque\n",
        "n = int(input())\n",
        "q = deque()\n",
        "rotate = {0:5, 1:3, 2:4, 3:1, 4:2, 5:0}\n",
        "\n",
        "# on\n",
        "# under\n",
        "\n",
        "maxnum = 0\n",
        "for _ in range(n):\n",
        "  q.append(list(map(int, input().split())))\n",
        "\n",
        "for i in range(6):\n",
        "  result = []\n",
        "  dice = [1,2,3,4,5,6]\n",
        "  dice.remove(q[0][i])\n",
        "  on = q[0][rotate[i]]\n",
        "  dice.remove(on)\n",
        "  result.append(max(dice))\n",
        "\n",
        "  for j in range(1, n):\n",
        "    dice = [1,2,3,4,5,6]\n",
        "    dice.remove(on)\n",
        "    on = q[j][rotate[q[j].index(on)]]\n",
        "    dice.remove(on)\n",
        "    result.append(max(dice))\n",
        "\n",
        "  result = sum(result)\n",
        "  if maxnum < result:\n",
        "    maxnum = result\n",
        "\n",
        "print(maxnum)"
      ],
      "metadata": {
        "id": "wI27MaK087Gk"
      },
      "execution_count": null,
      "outputs": []
    }
  ]
}