{
  "nbformat": 4,
  "nbformat_minor": 0,
  "metadata": {
    "colab": {
      "name": "토마토(3차원)",
      "provenance": [],
      "authorship_tag": "ABX9TyNZ9zVmPQbVVYfv8PES4BSe",
      "include_colab_link": true
    },
    "kernelspec": {
      "name": "python3",
      "display_name": "Python 3"
    },
    "language_info": {
      "name": "python"
    }
  },
  "cells": [
    {
      "cell_type": "markdown",
      "metadata": {
        "id": "view-in-github",
        "colab_type": "text"
      },
      "source": [
        "<a href=\"https://colab.research.google.com/github/Park-JeongHyun/python_algorithms/blob/study/%ED%86%A0%EB%A7%88%ED%86%A0(3%EC%B0%A8%EC%9B%90).ipynb\" target=\"_parent\"><img src=\"https://colab.research.google.com/assets/colab-badge.svg\" alt=\"Open In Colab\"/></a>"
      ]
    },
    {
      "cell_type": "markdown",
      "source": [
        "문제 7569"
      ],
      "metadata": {
        "id": "sQfdHzj6kZvB"
      }
    },
    {
      "cell_type": "code",
      "source": [
        "from sys import stdin\n",
        "from collections import deque\n",
        "\n",
        "m, n, h = map(int, stdin.readline().split())\n",
        "\n",
        "a = [[list(map(int, stdin.readline().split())) for _ in range(n)] for _ in range(h)]\n",
        "\n",
        "dx = [1, -1, 0, 0, 0, 0]\n",
        "dy = [0, 0, 1, -1, 0, 0]\n",
        "dz = [0, 0, 0, 0, 1, -1]\n",
        "\n",
        "queue = deque()\n",
        "\n",
        "for i in range(h):\n",
        "  for j in range(n):\n",
        "    for k in range(m):\n",
        "      if a[i][j][k] == 1:\n",
        "        queue.append((i,j,k))\n",
        "\n",
        "\n",
        "def bfs():\n",
        "  cnt = 0\n",
        "\n",
        "  while queue:\n",
        "    cnt += 1\n",
        "    for _ in range(len(queue)):\n",
        "      z, y, x = queue.popleft()\n",
        "      for l in range(6):\n",
        "        nz = z + dz[l]\n",
        "        nx = x + dx[l]\n",
        "        ny = y + dy[l]\n",
        "\n",
        "        if 0 <= nz < h and 0 <= nx < m and 0 <= ny < n and a[nz][ny][nx] == 0:\n",
        "          a[nz][ny][nx] = a[z][y][x] + 1\n",
        "          queue.append((nz,ny,nx))\n",
        "\n",
        "  for o in a:\n",
        "    for p in o:\n",
        "      if 0 in p:\n",
        "        return -1\n",
        "  return cnt-1\n",
        "\n",
        "print(bfs())"
      ],
      "metadata": {
        "id": "wI27MaK087Gk"
      },
      "execution_count": null,
      "outputs": []
    }
  ]
}