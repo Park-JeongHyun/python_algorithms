{
  "nbformat": 4,
  "nbformat_minor": 0,
  "metadata": {
    "colab": {
      "name": "가장 긴 증가하는 부분 수열",
      "provenance": [],
      "authorship_tag": "ABX9TyMGiSwrFBPuuHgO2+FiZ7Jq",
      "include_colab_link": true
    },
    "kernelspec": {
      "name": "python3",
      "display_name": "Python 3"
    },
    "language_info": {
      "name": "python"
    }
  },
  "cells": [
    {
      "cell_type": "markdown",
      "metadata": {
        "id": "view-in-github",
        "colab_type": "text"
      },
      "source": [
        "<a href=\"https://colab.research.google.com/github/Park-JeongHyun/python_algorithms/blob/study/%EA%B0%80%EC%9E%A5_%EA%B8%B4_%EC%A6%9D%EA%B0%80%ED%95%98%EB%8A%94_%EB%B6%80%EB%B6%84_%EC%88%98%EC%97%B4.ipynb\" target=\"_parent\"><img src=\"https://colab.research.google.com/assets/colab-badge.svg\" alt=\"Open In Colab\"/></a>"
      ]
    },
    {
      "cell_type": "markdown",
      "source": [
        "문제 11053"
      ],
      "metadata": {
        "id": "sQfdHzj6kZvB"
      }
    },
    {
      "cell_type": "code",
      "source": [
        "n = int(input())\n",
        "\n",
        "a = list(map(int, input().split()))\n",
        "dp = [1 for _ in range(n)]\n",
        "\n",
        "for i in range(n):\n",
        "  for j in range(i):\n",
        "    if a[i] > a[j]:\n",
        "      dp[i] = max(dp[i], dp[j]+1)\n",
        "\n",
        "print(max(dp))"
      ],
      "metadata": {
        "id": "wI27MaK087Gk"
      },
      "execution_count": null,
      "outputs": []
    }
  ]
}