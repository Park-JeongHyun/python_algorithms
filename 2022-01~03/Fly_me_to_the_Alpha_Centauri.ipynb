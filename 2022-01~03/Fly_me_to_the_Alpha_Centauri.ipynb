{
  "nbformat": 4,
  "nbformat_minor": 0,
  "metadata": {
    "colab": {
      "name": "Fly me to the Alpha Centauri ",
      "provenance": [],
      "authorship_tag": "ABX9TyNRFfxHL/TNHI/ui0FFqgJw",
      "include_colab_link": true
    },
    "kernelspec": {
      "name": "python3",
      "display_name": "Python 3"
    },
    "language_info": {
      "name": "python"
    }
  },
  "cells": [
    {
      "cell_type": "markdown",
      "metadata": {
        "id": "view-in-github",
        "colab_type": "text"
      },
      "source": [
        "<a href=\"https://colab.research.google.com/github/Park-JeongHyun/python_algorithms/blob/study/Fly_me_to_the_Alpha_Centauri.ipynb\" target=\"_parent\"><img src=\"https://colab.research.google.com/assets/colab-badge.svg\" alt=\"Open In Colab\"/></a>"
      ]
    },
    {
      "cell_type": "markdown",
      "source": [
        "문제 1011"
      ],
      "metadata": {
        "id": "sQfdHzj6kZvB"
      }
    },
    {
      "cell_type": "code",
      "source": [
        "from math import sqrt\n",
        "\n",
        "t = int(input())\n",
        "for _ in range(t):\n",
        "    x, y = list(map(int, input().split()))\n",
        "    diff = y - x\n",
        "    round_sqrt = int(sqrt(diff))\n",
        "\n",
        "    if round_sqrt ** 2 == diff:\n",
        "        print(2 * round_sqrt1 45  - 1)\n",
        "    else:\n",
        "        if diff - (round_sqrt ** 2) < (round_sqrt + 1) ** 2 - diff:\n",
        "            print(2 * round_sqrt)\n",
        "        else:\n",
        "            print(2 * round_sqrt + 1)"
      ],
      "metadata": {
        "colab": {
          "base_uri": "https://localhost:8080/"
        },
        "id": "wI27MaK087Gk",
        "outputId": "a6d89df4-8f27-4bc4-c409-fbd8ef192a22"
      },
      "execution_count": 1,
      "outputs": [
        {
          "output_type": "stream",
          "name": "stdout",
          "text": [
            "3\n",
            "0 3\n",
            "3\n",
            "1 5\n",
            "3\n",
            "45 50\n",
            "4\n"
          ]
        }
      ]
    }
  ]
}