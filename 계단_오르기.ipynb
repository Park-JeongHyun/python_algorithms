{
  "nbformat": 4,
  "nbformat_minor": 0,
  "metadata": {
    "colab": {
      "name": "계단 오르기",
      "provenance": [],
      "authorship_tag": "ABX9TyNWVS/hKPiV55GWDdlVOgYq",
      "include_colab_link": true
    },
    "kernelspec": {
      "name": "python3",
      "display_name": "Python 3"
    },
    "language_info": {
      "name": "python"
    }
  },
  "cells": [
    {
      "cell_type": "markdown",
      "metadata": {
        "id": "view-in-github",
        "colab_type": "text"
      },
      "source": [
        "<a href=\"https://colab.research.google.com/github/Park-JeongHyun/python_algorithms/blob/study/%EA%B3%84%EB%8B%A8_%EC%98%A4%EB%A5%B4%EA%B8%B0.ipynb\" target=\"_parent\"><img src=\"https://colab.research.google.com/assets/colab-badge.svg\" alt=\"Open In Colab\"/></a>"
      ]
    },
    {
      "cell_type": "markdown",
      "source": [
        "문제 2579"
      ],
      "metadata": {
        "id": "sQfdHzj6kZvB"
      }
    },
    {
      "cell_type": "code",
      "source": [
        "n = int(input())\n",
        "s = [0 for i in range(301)]\n",
        "dp = [0 for i in range(301)]\n",
        "for i in range(n):\n",
        "    s[i] = int(input())\n",
        "dp[0] = s[0]\n",
        "dp[1] = s[0] + s[1]\n",
        "dp[2] = max(s[1] + s[2], s[0] + s[2])\n",
        "for i in range(3, n):\n",
        "    dp[i] = max(dp[i - 3] + s[i - 1] + s[i], dp[i - 2] + s[i])\n",
        "print(dp[n - 1])"
      ],
      "metadata": {
        "id": "wI27MaK087Gk"
      },
      "execution_count": null,
      "outputs": []
    }
  ]
}