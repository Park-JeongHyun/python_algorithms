{
  "nbformat": 4,
  "nbformat_minor": 0,
  "metadata": {
    "colab": {
      "name": "숨바꼭질",
      "provenance": [],
      "authorship_tag": "ABX9TyNaz++vxYyzTbIE/xBx5q3b",
      "include_colab_link": true
    },
    "kernelspec": {
      "name": "python3",
      "display_name": "Python 3"
    },
    "language_info": {
      "name": "python"
    }
  },
  "cells": [
    {
      "cell_type": "markdown",
      "metadata": {
        "id": "view-in-github",
        "colab_type": "text"
      },
      "source": [
        "<a href=\"https://colab.research.google.com/github/Park-JeongHyun/python_algorithms/blob/study/%EC%88%A8%EB%B0%94%EA%BC%AD%EC%A7%88.ipynb\" target=\"_parent\"><img src=\"https://colab.research.google.com/assets/colab-badge.svg\" alt=\"Open In Colab\"/></a>"
      ]
    },
    {
      "cell_type": "markdown",
      "source": [
        "문제 1697"
      ],
      "metadata": {
        "id": "sQfdHzj6kZvB"
      }
    },
    {
      "cell_type": "code",
      "source": [
        "from collections import deque\n",
        "n, k = map(int, input().split())\n",
        "mx = 100000\n",
        "a = [0] * (mx+1)\n",
        "q = deque()\n",
        "\n",
        "def bfs():\n",
        "  q.append(n)\n",
        "  \n",
        "  while q:\n",
        "    p = q.popleft()\n",
        "\n",
        "    if p == k:\n",
        "      print(a[p])\n",
        "      break\n",
        "    for i in (p+1, p-1, p+p):\n",
        "      if 0 <= i <= mx and a[i] == 0:\n",
        "        a[i] = a[p] + 1\n",
        "        q.append(i)\n",
        "\n",
        "bfs()"
      ],
      "metadata": {
        "id": "wI27MaK087Gk"
      },
      "execution_count": null,
      "outputs": []
    }
  ]
}