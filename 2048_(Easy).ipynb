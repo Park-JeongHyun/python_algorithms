{
  "nbformat": 4,
  "nbformat_minor": 0,
  "metadata": {
    "colab": {
      "name": "2048 (Easy)",
      "provenance": [],
      "authorship_tag": "ABX9TyPyCSZ09DrBD7xPhpDXlMEB",
      "include_colab_link": true
    },
    "kernelspec": {
      "name": "python3",
      "display_name": "Python 3"
    },
    "language_info": {
      "name": "python"
    }
  },
  "cells": [
    {
      "cell_type": "markdown",
      "metadata": {
        "id": "view-in-github",
        "colab_type": "text"
      },
      "source": [
        "<a href=\"https://colab.research.google.com/github/Park-JeongHyun/python_algorithms/blob/main/2048_(Easy).ipynb\" target=\"_parent\"><img src=\"https://colab.research.google.com/assets/colab-badge.svg\" alt=\"Open In Colab\"/></a>"
      ]
    },
    {
      "cell_type": "markdown",
      "source": [
        "문제 12100"
      ],
      "metadata": {
        "id": "qyl04bQ1eG4b"
      }
    },
    {
      "cell_type": "code",
      "source": [
        "import sys\n",
        "from copy import deepcopy\n",
        "input = sys.stdin.readline\n",
        "\n",
        "n = int(input())\n",
        "a= [list(map(int, input().split())) for _ in range(n)]\n",
        "\n",
        "def up(a):\n",
        "  for j in range(n):\n",
        "    pointer = 0\n",
        "    for i in range(1,n):\n",
        "      if a[i][j]:\n",
        "        tmp = a[i][j]\n",
        "        a[i][j] = 0\n",
        "        if a[pointer][j] == 0:\n",
        "          a[pointer][j] = tmp\n",
        "        elif a[pointer][j] == tmp:\n",
        "          a[pointer][j] *= 2\n",
        "          pointer += 1\n",
        "        else:\n",
        "          pointer += 1\n",
        "          a[pointer][j] = tmp\n",
        "  return a\n",
        "\n",
        "def down(a):\n",
        "  for j in range(n):\n",
        "    pointer = n-1\n",
        "    for i in range(n-2, -1, -1):\n",
        "      if a[i][j]:\n",
        "        tmp = a[i][j]\n",
        "        a[i][j] = 0\n",
        "        if a[pointer][j] == 0:\n",
        "          a[pointer][j] = tmp\n",
        "        elif a[pointer][j] == tmp:\n",
        "          a[pointer][j] *= 2\n",
        "          pointer -= 1\n",
        "        else:\n",
        "          pointer -= 1\n",
        "          a[pointer][j] = tmp\n",
        "  return a\n",
        "\n",
        "def left(a):\n",
        "  for i in range(n):\n",
        "    pointer = 0\n",
        "    for j in range(1,n):\n",
        "      if a[i][j]:\n",
        "        tmp = a[i][j]\n",
        "        a[i][j] = 0\n",
        "        if a[i][pointer] == 0:\n",
        "          a[i][pointer] = tmp\n",
        "        elif a[i][pointer] == tmp:\n",
        "          a[i][pointer] *= 2\n",
        "          pointer += 1\n",
        "        else:\n",
        "          pointer += 1\n",
        "          a[i][pointer] = tmp\n",
        "  return a\n",
        "\n",
        "def right(a):\n",
        "  for i in range(n):\n",
        "    pointer = n-1\n",
        "    for j in range(n-2, -1, -1):\n",
        "      if a[i][j]:\n",
        "        tmp = a[i][j]\n",
        "        a[i][j] = 0\n",
        "        if a[i][pointer] == 0:\n",
        "          a[i][pointer] = tmp\n",
        "        elif a[i][pointer] == tmp:\n",
        "          a[i][pointer] *= 2\n",
        "          pointer -= 1\n",
        "        else:\n",
        "          pointer -= 1\n",
        "          a[i][pointer] = tmp\n",
        "  return a\n",
        "\n",
        "def solve(a, cnt):\n",
        "  if cnt == 5:\n",
        "    return max(map(max, a))\n",
        "\n",
        "  return max(solve(up(deepcopy(a)), cnt+1), solve(down(deepcopy(a)), cnt+1), solve(left(deepcopy(a)), cnt+1), solve(right(deepcopy(a)), cnt+1))\n",
        "\n",
        "print(solve(a, 0))"
      ],
      "metadata": {
        "id": "aiOB-7HueEH-"
      },
      "execution_count": null,
      "outputs": []
    }
  ]
}