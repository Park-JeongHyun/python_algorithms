{
  "nbformat": 4,
  "nbformat_minor": 0,
  "metadata": {
    "colab": {
      "name": "토마토",
      "provenance": [],
      "authorship_tag": "ABX9TyOfxBaSjKcTQlwo+WVRTy/j",
      "include_colab_link": true
    },
    "kernelspec": {
      "name": "python3",
      "display_name": "Python 3"
    },
    "language_info": {
      "name": "python"
    }
  },
  "cells": [
    {
      "cell_type": "markdown",
      "metadata": {
        "id": "view-in-github",
        "colab_type": "text"
      },
      "source": [
        "<a href=\"https://colab.research.google.com/github/Park-JeongHyun/python_algorithms/blob/study/%ED%86%A0%EB%A7%88%ED%86%A0.ipynb\" target=\"_parent\"><img src=\"https://colab.research.google.com/assets/colab-badge.svg\" alt=\"Open In Colab\"/></a>"
      ]
    },
    {
      "cell_type": "markdown",
      "source": [
        "문제 7576"
      ],
      "metadata": {
        "id": "sQfdHzj6kZvB"
      }
    },
    {
      "cell_type": "code",
      "source": [
        "from sys import stdin\n",
        "from collections import deque\n",
        "\n",
        "n ,m = map(int, stdin.readline().split())\n",
        "a = []\n",
        "queue = deque()\n",
        "\n",
        "\n",
        "for j in range(m):\n",
        "  a.append(list(map(int, stdin.readline().split())))\n",
        "\n",
        "  for i in range(n):\n",
        "    if a[j][i] == 1:\n",
        "      y = j\n",
        "      x = i\n",
        "      queue.append((y,x))\n",
        "\n",
        "def bfs():\n",
        "  cnt = 0\n",
        "  dx = [1, -1, 0, 0]\n",
        "  dy = [0, 0, 1, -1]\n",
        "\n",
        "  while queue:\n",
        "    cnt += 1\n",
        "\n",
        "    for _ in range(len(queue)):\n",
        "      y, x = queue.popleft()\n",
        "      \n",
        "      for i in range(4):\n",
        "        nx = x + dx[i]\n",
        "        ny = y + dy[i]\n",
        "\n",
        "        if 0 <= nx < n and 0 <= ny < m and a[ny][nx] == 0:\n",
        "          a[ny][nx] = a[y][x] + 1\n",
        "          queue.append((ny, nx))\n",
        "\n",
        "  for k in a:\n",
        "    if 0 in k:\n",
        "      return -1\n",
        "\n",
        "  return cnt-1\n",
        "\n",
        "print(bfs())"
      ],
      "metadata": {
        "id": "wI27MaK087Gk"
      },
      "execution_count": null,
      "outputs": []
    }
  ]
}