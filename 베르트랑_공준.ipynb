{
  "nbformat": 4,
  "nbformat_minor": 0,
  "metadata": {
    "colab": {
      "name": "베르트랑 공준",
      "provenance": [],
      "authorship_tag": "ABX9TyNlx+4OkzgeZpZPtMdACXYH",
      "include_colab_link": true
    },
    "kernelspec": {
      "name": "python3",
      "display_name": "Python 3"
    },
    "language_info": {
      "name": "python"
    }
  },
  "cells": [
    {
      "cell_type": "markdown",
      "metadata": {
        "id": "view-in-github",
        "colab_type": "text"
      },
      "source": [
        "<a href=\"https://colab.research.google.com/github/Park-JeongHyun/python_algorithms/blob/study/%EB%B2%A0%EB%A5%B4%ED%8A%B8%EB%9E%91_%EA%B3%B5%EC%A4%80.ipynb\" target=\"_parent\"><img src=\"https://colab.research.google.com/assets/colab-badge.svg\" alt=\"Open In Colab\"/></a>"
      ]
    },
    {
      "cell_type": "markdown",
      "source": [
        "문제 4948"
      ],
      "metadata": {
        "id": "sQfdHzj6kZvB"
      }
    },
    {
      "cell_type": "code",
      "source": [
        "while True:\n",
        "  n = int(input())\n",
        "  k = int((2*n)**0.5)\n",
        "  a = [True] * (2*n+1)\n",
        "  cnt = 0\n",
        "\n",
        "  if n == 0:\n",
        "    break\n",
        "\n",
        "  else:\n",
        "    for i in range(2, k+1):\n",
        "      if a[i] == True:\n",
        "        for j in range(i+i, 2*n+1, i):\n",
        "          a[j] = False\n",
        "\n",
        "    for t in range(n+1, 2*n + 1):\n",
        "      if a[t]:\n",
        "        cnt += 1\n",
        "\n",
        "    print(cnt)"
      ],
      "metadata": {
        "colab": {
          "base_uri": "https://localhost:8080/"
        },
        "id": "wI27MaK087Gk",
        "outputId": "2c7b9ddc-4c14-4550-dd6f-07fcab3f6e2e"
      },
      "execution_count": 3,
      "outputs": [
        {
          "name": "stdout",
          "output_type": "stream",
          "text": [
            "1\n",
            "1\n",
            "10\n",
            "4\n",
            "1000\n",
            "135\n",
            "100000\n",
            "8392\n",
            "0\n"
          ]
        }
      ]
    }
  ]
}