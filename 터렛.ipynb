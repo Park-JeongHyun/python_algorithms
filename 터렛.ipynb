{
  "nbformat": 4,
  "nbformat_minor": 0,
  "metadata": {
    "colab": {
      "name": "터렛",
      "provenance": [],
      "authorship_tag": "ABX9TyPtiCuVdDBz7eC6jy/pDjw/",
      "include_colab_link": true
    },
    "kernelspec": {
      "name": "python3",
      "display_name": "Python 3"
    },
    "language_info": {
      "name": "python"
    }
  },
  "cells": [
    {
      "cell_type": "markdown",
      "metadata": {
        "id": "view-in-github",
        "colab_type": "text"
      },
      "source": [
        "<a href=\"https://colab.research.google.com/github/Park-JeongHyun/python_algorithms/blob/study/%ED%84%B0%EB%A0%9B.ipynb\" target=\"_parent\"><img src=\"https://colab.research.google.com/assets/colab-badge.svg\" alt=\"Open In Colab\"/></a>"
      ]
    },
    {
      "cell_type": "markdown",
      "source": [
        "문제 1002"
      ],
      "metadata": {
        "id": "sQfdHzj6kZvB"
      }
    },
    {
      "cell_type": "code",
      "source": [
        "from math import sqrt\n",
        "\n",
        "t = int(input())\n",
        "\n",
        "for _ in range(t):\n",
        "  x1, y1, r1, x2, y2, r2 = map(int, input().split())\n",
        "  distance = sqrt((x1-x2)**2 + (y1-y2)**2)\n",
        "\n",
        "  if distance == 0 and r1 == r2:\n",
        "    print(-1)\n",
        "  \n",
        "  elif distance == r1 + r2 or distance == abs(r1-r2):\n",
        "    print(1)\n",
        "  \n",
        "  elif abs(r1-r2) < distance < r1 + r2:\n",
        "    print(2)\n",
        "\n",
        "  else:\n",
        "    print(0) "
      ],
      "metadata": {
        "colab": {
          "base_uri": "https://localhost:8080/"
        },
        "id": "wI27MaK087Gk",
        "outputId": "05e3d586-a6a1-4dfd-e8e9-06eb5f68cd19"
      },
      "execution_count": 1,
      "outputs": [
        {
          "output_type": "stream",
          "name": "stdout",
          "text": [
            "3\n",
            "0 0 13 40 0 37\n",
            "2\n",
            "0 0 3 0 7 4\n",
            "1\n",
            "1 1 1 1 1 5\n",
            "0\n"
          ]
        }
      ]
    }
  ]
}