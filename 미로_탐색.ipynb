{
  "nbformat": 4,
  "nbformat_minor": 0,
  "metadata": {
    "colab": {
      "name": "미로 탐색",
      "provenance": [],
      "authorship_tag": "ABX9TyNQEQtMG2gVaE/Sp2ZjSPfP",
      "include_colab_link": true
    },
    "kernelspec": {
      "name": "python3",
      "display_name": "Python 3"
    },
    "language_info": {
      "name": "python"
    }
  },
  "cells": [
    {
      "cell_type": "markdown",
      "metadata": {
        "id": "view-in-github",
        "colab_type": "text"
      },
      "source": [
        "<a href=\"https://colab.research.google.com/github/Park-JeongHyun/python_algorithms/blob/study/%EB%AF%B8%EB%A1%9C_%ED%83%90%EC%83%89.ipynb\" target=\"_parent\"><img src=\"https://colab.research.google.com/assets/colab-badge.svg\" alt=\"Open In Colab\"/></a>"
      ]
    },
    {
      "cell_type": "markdown",
      "source": [
        "문제 2178"
      ],
      "metadata": {
        "id": "sQfdHzj6kZvB"
      }
    },
    {
      "cell_type": "code",
      "source": [
        "from collections import deque\n",
        "\n",
        "n, m = map(int, input().split())\n",
        "a = []\n",
        "\n",
        "for _ in range(n):\n",
        "  a.append(list(map(int, input())))\n",
        "\n",
        "def func(x, y):\n",
        "\n",
        "  dx = [-1, 1, 0, 0]\n",
        "  dy = [0, 0, 1, -1]\n",
        "\n",
        "  queue = deque()\n",
        "  queue.append((x, y))\n",
        "\n",
        "  while queue:\n",
        "    x, y = queue.popleft()\n",
        "\n",
        "    for i in range(4):\n",
        "      nx = x + dx[i]\n",
        "      ny = y + dy[i]\n",
        "\n",
        "      if nx <0 or ny <0 or ny >=n or nx>=m:\n",
        "        continue\n",
        "      if a[ny][nx] == 0:\n",
        "        continue\n",
        "      if a[ny][nx] == 1:\n",
        "        a[ny][nx] = a[y][x] + 1\n",
        "        queue.append((nx, ny))\n",
        "  \n",
        "  return a[n-1][m-1]\n",
        "\n",
        "print(func(0,0))"
      ],
      "metadata": {
        "id": "wI27MaK087Gk"
      },
      "execution_count": null,
      "outputs": []
    }
  ]
}