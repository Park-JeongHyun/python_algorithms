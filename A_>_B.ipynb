{
  "nbformat": 4,
  "nbformat_minor": 0,
  "metadata": {
    "colab": {
      "name": "A -> B",
      "provenance": [],
      "authorship_tag": "ABX9TyP/U2PnekRRrVem8PIXYxaW",
      "include_colab_link": true
    },
    "kernelspec": {
      "name": "python3",
      "display_name": "Python 3"
    },
    "language_info": {
      "name": "python"
    }
  },
  "cells": [
    {
      "cell_type": "markdown",
      "metadata": {
        "id": "view-in-github",
        "colab_type": "text"
      },
      "source": [
        "<a href=\"https://colab.research.google.com/github/Park-JeongHyun/python_algorithms/blob/main/A_%3E_B.ipynb\" target=\"_parent\"><img src=\"https://colab.research.google.com/assets/colab-badge.svg\" alt=\"Open In Colab\"/></a>"
      ]
    },
    {
      "cell_type": "markdown",
      "source": [
        "문제 16953"
      ],
      "metadata": {
        "id": "sQfdHzj6kZvB"
      }
    },
    {
      "cell_type": "code",
      "source": [
        "from collections import deque\n",
        "a, b = map(int, input().split())\n",
        "q = deque()\n",
        "cnt = 1\n",
        "result = -1\n",
        "q.append([a, cnt])\n",
        "\n",
        "while q:\n",
        "  x, cnt = q.popleft()\n",
        "  if x == b:\n",
        "    result = cnt\n",
        "    break\n",
        "    \n",
        "  if x*2 <= b:\n",
        "    q.append([x*2, cnt+1])\n",
        "    \n",
        "  if x*10 + 1 <= b:\n",
        "    q.append([x*10 + 1, cnt+1])\n",
        "\n",
        "print(result)"
      ],
      "metadata": {
        "id": "wI27MaK087Gk"
      },
      "execution_count": null,
      "outputs": []
    }
  ]
}