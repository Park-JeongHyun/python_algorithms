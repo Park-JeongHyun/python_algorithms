{
  "nbformat": 4,
  "nbformat_minor": 0,
  "metadata": {
    "colab": {
      "name": "벽 부수고 이동하기",
      "provenance": [],
      "authorship_tag": "ABX9TyM2uJ4esC4TVY5k7lQZV21f",
      "include_colab_link": true
    },
    "kernelspec": {
      "name": "python3",
      "display_name": "Python 3"
    },
    "language_info": {
      "name": "python"
    }
  },
  "cells": [
    {
      "cell_type": "markdown",
      "metadata": {
        "id": "view-in-github",
        "colab_type": "text"
      },
      "source": [
        "<a href=\"https://colab.research.google.com/github/Park-JeongHyun/python_algorithms/blob/main/%EB%B2%BD_%EB%B6%80%EC%88%98%EA%B3%A0_%EC%9D%B4%EB%8F%99%ED%95%98%EA%B8%B0.ipynb\" target=\"_parent\"><img src=\"https://colab.research.google.com/assets/colab-badge.svg\" alt=\"Open In Colab\"/></a>"
      ]
    },
    {
      "cell_type": "markdown",
      "source": [
        "문제 2206"
      ],
      "metadata": {
        "id": "sQfdHzj6kZvB"
      }
    },
    {
      "cell_type": "code",
      "source": [
        "from collections import deque\n",
        "from sys import stdin\n",
        "\n",
        "n, m = map(int, stdin.readline().split())\n",
        "a = []\n",
        "\n",
        "for _ in range(n):\n",
        "    a.append(list(map(int, stdin.readline().strip())))\n",
        "\n",
        "dx = [1, -1, 0, 0]\n",
        "dy = [0, 0, 1, -1]\n",
        "\n",
        "def bfs():\n",
        "  q = deque()\n",
        "  q.append([0,0,1])\n",
        "  visit = [[[0] * 2 for _ in range(m)] for _ in range(n)]\n",
        "  visit[0][0][1] = 1\n",
        "\n",
        "  while q:\n",
        "    x, y, z = q.popleft()\n",
        "    if x == n-1 and y == m-1:\n",
        "      return visit[x][y][z]\n",
        "    for i in range(4):\n",
        "      nx = x + dx[i]\n",
        "      ny = y + dy[i]\n",
        "      if 0 <= nx < n and 0 <= ny < m:\n",
        "        if a[nx][ny] == 1 and z == 1:\n",
        "          visit[nx][ny][0] = visit[x][y][1] + 1\n",
        "          q.append([nx,ny,0])\n",
        "        elif a[nx][ny] == 0 and visit[nx][ny][z] == 0:\n",
        "          visit[nx][ny][z] = visit[x][y][z] + 1\n",
        "          q.append([nx,ny,z])\n",
        "        \n",
        "  return -1\n",
        "\n",
        "print(bfs())"
      ],
      "metadata": {
        "id": "wI27MaK087Gk"
      },
      "execution_count": null,
      "outputs": []
    }
  ]
}