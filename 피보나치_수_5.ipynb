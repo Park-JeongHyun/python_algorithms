{
  "nbformat": 4,
  "nbformat_minor": 0,
  "metadata": {
    "colab": {
      "name": "피보나치 수 5",
      "provenance": [],
      "authorship_tag": "ABX9TyOwfUgsA8x7oqP79jjz23hL",
      "include_colab_link": true
    },
    "kernelspec": {
      "name": "python3",
      "display_name": "Python 3"
    },
    "language_info": {
      "name": "python"
    }
  },
  "cells": [
    {
      "cell_type": "markdown",
      "metadata": {
        "id": "view-in-github",
        "colab_type": "text"
      },
      "source": [
        "<a href=\"https://colab.research.google.com/github/Park-JeongHyun/python_algorithms/blob/study/%ED%94%BC%EB%B3%B4%EB%82%98%EC%B9%98_%EC%88%98_5.ipynb\" target=\"_parent\"><img src=\"https://colab.research.google.com/assets/colab-badge.svg\" alt=\"Open In Colab\"/></a>"
      ]
    },
    {
      "cell_type": "markdown",
      "source": [
        "문제 10870"
      ],
      "metadata": {
        "id": "sQfdHzj6kZvB"
      }
    },
    {
      "cell_type": "code",
      "source": [
        "# n = int(input())\n",
        "\n",
        "# a = [0, 1]\n",
        "# k = 2\n",
        "\n",
        "# if n == 0:\n",
        "#   print(0)\n",
        "# else:\n",
        "#   while n > 1:\n",
        "#     n -= 1\n",
        "#     a.append(a[k-1] + a[k-2])\n",
        "#     k+=1\n",
        "\n",
        "#   print(a[-1])\n",
        "\n",
        "# 재귀 함수\n",
        "n = int(input())\n",
        "\n",
        "def p(n):\n",
        "  result = 1\n",
        "  if n == 0:\n",
        "    result = 0\n",
        "  elif n == 1:\n",
        "    result = 1\n",
        "  elif n > 2:\n",
        "    result = p(n - 1) + p(n - 2)\n",
        "  return result\n",
        "\n",
        "print(p(n))"
      ],
      "metadata": {
        "colab": {
          "base_uri": "https://localhost:8080/"
        },
        "id": "wI27MaK087Gk",
        "outputId": "66b3c52c-78e0-4476-9187-d15f7783f461"
      },
      "execution_count": 3,
      "outputs": [
        {
          "output_type": "stream",
          "name": "stdout",
          "text": [
            "10\n",
            "55\n"
          ]
        }
      ]
    }
  ]
}