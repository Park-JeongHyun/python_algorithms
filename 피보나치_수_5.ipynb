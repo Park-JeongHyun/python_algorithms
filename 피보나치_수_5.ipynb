{
  "nbformat": 4,
  "nbformat_minor": 0,
  "metadata": {
    "colab": {
      "name": "피보나치 수 5",
      "provenance": [],
      "authorship_tag": "ABX9TyPEwfcLo9uL6/g9WmmM+asU",
      "include_colab_link": true
    },
    "kernelspec": {
      "name": "python3",
      "display_name": "Python 3"
    },
    "language_info": {
      "name": "python"
    }
  },
  "cells": [
    {
      "cell_type": "markdown",
      "metadata": {
        "id": "view-in-github",
        "colab_type": "text"
      },
      "source": [
        "<a href=\"https://colab.research.google.com/github/Park-JeongHyun/python_algorithms/blob/study/%ED%94%BC%EB%B3%B4%EB%82%98%EC%B9%98_%EC%88%98_5.ipynb\" target=\"_parent\"><img src=\"https://colab.research.google.com/assets/colab-badge.svg\" alt=\"Open In Colab\"/></a>"
      ]
    },
    {
      "cell_type": "markdown",
      "source": [
        "문제 10870"
      ],
      "metadata": {
        "id": "sQfdHzj6kZvB"
      }
    },
    {
      "cell_type": "code",
      "source": [
        "n = int(input())\n",
        "\n",
        "a = [0, 1]\n",
        "k = 2\n",
        "\n",
        "if n == 0:\n",
        "  print(0)\n",
        "else:\n",
        "  while n > 1:\n",
        "    n -= 1\n",
        "    a.append(a[k-1] + a[k-2])\n",
        "    k+=1\n",
        "\n",
        "  print(a[-1])"
      ],
      "metadata": {
        "colab": {
          "base_uri": "https://localhost:8080/"
        },
        "id": "wI27MaK087Gk",
        "outputId": "4539c411-0f2a-4d73-ed80-023c9b46c21f"
      },
      "execution_count": 2,
      "outputs": [
        {
          "output_type": "stream",
          "name": "stdout",
          "text": [
            "10\n",
            "55\n"
          ]
        }
      ]
    }
  ]
}