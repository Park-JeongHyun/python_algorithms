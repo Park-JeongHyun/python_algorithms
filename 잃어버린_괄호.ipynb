{
  "nbformat": 4,
  "nbformat_minor": 0,
  "metadata": {
    "colab": {
      "name": "잃어버린 괄호",
      "provenance": [],
      "authorship_tag": "ABX9TyNwUcCpBO7VAMTH+ipkbDMt",
      "include_colab_link": true
    },
    "kernelspec": {
      "name": "python3",
      "display_name": "Python 3"
    },
    "language_info": {
      "name": "python"
    }
  },
  "cells": [
    {
      "cell_type": "markdown",
      "metadata": {
        "id": "view-in-github",
        "colab_type": "text"
      },
      "source": [
        "<a href=\"https://colab.research.google.com/github/Park-JeongHyun/python_algorithms/blob/main/%EC%9E%83%EC%96%B4%EB%B2%84%EB%A6%B0_%EA%B4%84%ED%98%B8.ipynb\" target=\"_parent\"><img src=\"https://colab.research.google.com/assets/colab-badge.svg\" alt=\"Open In Colab\"/></a>"
      ]
    },
    {
      "cell_type": "markdown",
      "source": [
        "문제 10926"
      ],
      "metadata": {
        "id": "sQfdHzj6kZvB"
      }
    },
    {
      "cell_type": "markdown",
      "source": [
        "문제 1541"
      ],
      "metadata": {
        "id": "qyl04bQ1eG4b"
      }
    },
    {
      "cell_type": "code",
      "source": [
        "a = input().split(\"-\")\n",
        "nums = []\n",
        "\n",
        "for i in a:\n",
        "  cnt = 0\n",
        "  b = i.split(\"+\")\n",
        "  for j in b:\n",
        "    cnt += int(j)\n",
        "  nums.append(cnt)\n",
        "\n",
        "print(2*nums[0]-sum(nums))"
      ],
      "metadata": {
        "id": "aiOB-7HueEH-"
      },
      "execution_count": null,
      "outputs": []
    }
  ]
}