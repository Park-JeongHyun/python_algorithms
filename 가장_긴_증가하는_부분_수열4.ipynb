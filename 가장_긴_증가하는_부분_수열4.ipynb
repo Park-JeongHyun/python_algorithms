{
  "nbformat": 4,
  "nbformat_minor": 0,
  "metadata": {
    "colab": {
      "name": "\b가장 긴 증가하는 부분 수열4",
      "provenance": [],
      "authorship_tag": "ABX9TyMvF38m1wVgvYlrfkWNAL4x",
      "include_colab_link": true
    },
    "kernelspec": {
      "name": "python3",
      "display_name": "Python 3"
    },
    "language_info": {
      "name": "python"
    }
  },
  "cells": [
    {
      "cell_type": "markdown",
      "metadata": {
        "id": "view-in-github",
        "colab_type": "text"
      },
      "source": [
        "<a href=\"https://colab.research.google.com/github/Park-JeongHyun/python_algorithms/blob/main/%08%EA%B0%80%EC%9E%A5_%EA%B8%B4_%EC%A6%9D%EA%B0%80%ED%95%98%EB%8A%94_%EB%B6%80%EB%B6%84_%EC%88%98%EC%97%B44.ipynb\" target=\"_parent\"><img src=\"https://colab.research.google.com/assets/colab-badge.svg\" alt=\"Open In Colab\"/></a>"
      ]
    },
    {
      "cell_type": "markdown",
      "source": [
        "문제 14003"
      ],
      "metadata": {
        "id": "qyl04bQ1eG4b"
      }
    },
    {
      "cell_type": "code",
      "source": [
        "from bisect import bisect_left\n",
        "import sys\n",
        "input = sys.stdin.readline\n",
        "\n",
        "n = int(input())\n",
        "a = list(map(int, input().split()))\n",
        "dp = [1] * n\n",
        "b = [-1000000001]\n",
        "maxVal = 0\n",
        "\n",
        "for i in range(n):\n",
        "  if b[-1] < a[i]:\n",
        "    b.append(a[i])\n",
        "    dp[i] = len(b) - 1\n",
        "    maxVal = dp[i]\n",
        "  else:\n",
        "    dp[i] = bisect_left(b, a[i])\n",
        "    b[dp[i]] = a[i]\n",
        "\n",
        "print(maxVal)\n",
        "\n",
        "result = []\n",
        "for i in range(n-1, -1, -1):\n",
        "  if dp[i] == maxVal:\n",
        "    result.append(a[i])\n",
        "    maxVal -= 1\n",
        "\n",
        "result.reverse()\n",
        "print(*result)"
      ],
      "metadata": {
        "id": "aiOB-7HueEH-"
      },
      "execution_count": null,
      "outputs": []
    }
  ]
}