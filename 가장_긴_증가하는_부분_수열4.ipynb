{
  "nbformat": 4,
  "nbformat_minor": 0,
  "metadata": {
    "colab": {
      "name": "\b가장 긴 증가하는 부분 수열4",
      "provenance": [],
      "authorship_tag": "ABX9TyMNIWcKTcvxFc9WBCqaZ3Xh",
      "include_colab_link": true
    },
    "kernelspec": {
      "name": "python3",
      "display_name": "Python 3"
    },
    "language_info": {
      "name": "python"
    }
  },
  "cells": [
    {
      "cell_type": "markdown",
      "metadata": {
        "id": "view-in-github",
        "colab_type": "text"
      },
      "source": [
        "<a href=\"https://colab.research.google.com/github/Park-JeongHyun/python_algorithms/blob/main/%08%EA%B0%80%EC%9E%A5_%EA%B8%B4_%EC%A6%9D%EA%B0%80%ED%95%98%EB%8A%94_%EB%B6%80%EB%B6%84_%EC%88%98%EC%97%B44.ipynb\" target=\"_parent\"><img src=\"https://colab.research.google.com/assets/colab-badge.svg\" alt=\"Open In Colab\"/></a>"
      ]
    },
    {
      "cell_type": "markdown",
      "source": [
        "문제 14002"
      ],
      "metadata": {
        "id": "qyl04bQ1eG4b"
      }
    },
    {
      "cell_type": "code",
      "source": [
        "import sys \n",
        "n = int(sys.stdin.readline()) \n",
        "a = list(map(int,sys.stdin.readline().split())) \n",
        "dp = [1]*n\n",
        "\n",
        "for i in range(n):\n",
        "  for j in range(i):\n",
        "    if a[i] > a[j]:\n",
        "      dp[i] = max(dp[i], dp[j]+1)\n",
        "    \n",
        "print(max(dp))\n",
        "\n",
        "result = []\n",
        "ans = max(dp)\n",
        "for i in range(n-1, -1, -1):\n",
        "  if dp[i] == ans:\n",
        "    result.append(a[i])\n",
        "    ans -= 1\n",
        "\n",
        "result.reverse()\n",
        "for i in result:\n",
        "  print(i, end=\" \")"
      ],
      "metadata": {
        "id": "aiOB-7HueEH-"
      },
      "execution_count": null,
      "outputs": []
    }
  ]
}