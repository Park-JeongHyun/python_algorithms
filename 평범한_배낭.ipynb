{
  "nbformat": 4,
  "nbformat_minor": 0,
  "metadata": {
    "colab": {
      "name": "평범한 배낭",
      "provenance": [],
      "authorship_tag": "ABX9TyNds+gkS7qrFRM8NjeFG9vO",
      "include_colab_link": true
    },
    "kernelspec": {
      "name": "python3",
      "display_name": "Python 3"
    },
    "language_info": {
      "name": "python"
    }
  },
  "cells": [
    {
      "cell_type": "markdown",
      "metadata": {
        "id": "view-in-github",
        "colab_type": "text"
      },
      "source": [
        "<a href=\"https://colab.research.google.com/github/Park-JeongHyun/python_algorithms/blob/study/%ED%8F%89%EB%B2%94%ED%95%9C_%EB%B0%B0%EB%82%AD.ipynb\" target=\"_parent\"><img src=\"https://colab.research.google.com/assets/colab-badge.svg\" alt=\"Open In Colab\"/></a>"
      ]
    },
    {
      "cell_type": "markdown",
      "source": [
        "문제 15666"
      ],
      "metadata": {
        "id": "sQfdHzj6kZvB"
      }
    },
    {
      "cell_type": "code",
      "source": [
        "n, k = map(int, input().split())\n",
        "a = {0: 0}\n",
        "\n",
        "for _ in range(n):\n",
        "  cw, cv = map(int, input().split())\n",
        "  result = {}\n",
        "\n",
        "  for w, v in a.items():\n",
        "    if cw + w <= k and cv + v > a.get(cw + w, 0):\n",
        "      result[cw + w] = cv + v\n",
        "    \n",
        "  a.update(result)\n",
        "\n",
        "print(max(a.values()))"
      ],
      "metadata": {
        "id": "wI27MaK087Gk"
      },
      "execution_count": null,
      "outputs": []
    }
  ]
}