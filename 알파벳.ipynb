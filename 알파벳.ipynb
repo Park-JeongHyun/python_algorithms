{
  "nbformat": 4,
  "nbformat_minor": 0,
  "metadata": {
    "colab": {
      "name": "알파벳",
      "provenance": [],
      "authorship_tag": "ABX9TyMaVKtJxXwoGR+UedPJdfeW",
      "include_colab_link": true
    },
    "kernelspec": {
      "name": "python3",
      "display_name": "Python 3"
    },
    "language_info": {
      "name": "python"
    }
  },
  "cells": [
    {
      "cell_type": "markdown",
      "metadata": {
        "id": "view-in-github",
        "colab_type": "text"
      },
      "source": [
        "<a href=\"https://colab.research.google.com/github/Park-JeongHyun/python_algorithms/blob/main/%EC%95%8C%ED%8C%8C%EB%B2%B3.ipynb\" target=\"_parent\"><img src=\"https://colab.research.google.com/assets/colab-badge.svg\" alt=\"Open In Colab\"/></a>"
      ]
    },
    {
      "cell_type": "markdown",
      "source": [
        "문제 1987"
      ],
      "metadata": {
        "id": "sQfdHzj6kZvB"
      }
    },
    {
      "cell_type": "code",
      "source": [
        "import sys\n",
        "input = sys.stdin.readline\n",
        "\n",
        "# 좌, 하, 우, 상\n",
        "dx = [-1, 0, 1, 0]\n",
        "dy = [0, -1, 0, 1]\n",
        "\n",
        "\n",
        "def solve(x, y):\n",
        "    global result\n",
        "    q = set([(x, y, a[x][y])])\n",
        "\n",
        "    while q:\n",
        "        x, y, ans = q.pop()\n",
        "\n",
        "        # 좌우상하 갈 수 있는지 살펴본다\n",
        "        for i in range(4):\n",
        "            nx = x + dx[i]\n",
        "            ny = y + dy[i]\n",
        "\n",
        "            # index 벗어나지 않는지 체크하고, 새로운 칸이 중복되는 알파벳인지 체크한다\n",
        "            if ((0 <= nx < R) and (0 <= ny < C)) and (a[nx][ny] not in ans):\n",
        "                q.add((nx,ny,ans + a[nx][ny]))\n",
        "                result = max(result, len(ans)+1)\n",
        "\n",
        "\n",
        "R, C = map(int, sys.stdin.readline().split())\n",
        "a = [list(sys.stdin.readline().strip()) for _ in range(R)]\n",
        "\n",
        "result = 1\n",
        "solve(0, 0)\n",
        "print(result)"
      ],
      "metadata": {
        "id": "wI27MaK087Gk"
      },
      "execution_count": null,
      "outputs": []
    }
  ]
}