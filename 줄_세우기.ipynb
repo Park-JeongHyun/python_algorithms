{
  "nbformat": 4,
  "nbformat_minor": 0,
  "metadata": {
    "colab": {
      "name": "줄 세우기",
      "provenance": [],
      "authorship_tag": "ABX9TyPID/Viz9Ii0bDhS9lzh/uY",
      "include_colab_link": true
    },
    "kernelspec": {
      "name": "python3",
      "display_name": "Python 3"
    },
    "language_info": {
      "name": "python"
    }
  },
  "cells": [
    {
      "cell_type": "markdown",
      "metadata": {
        "id": "view-in-github",
        "colab_type": "text"
      },
      "source": [
        "<a href=\"https://colab.research.google.com/github/Park-JeongHyun/python_algorithms/blob/main/%EC%A4%84_%EC%84%B8%EC%9A%B0%EA%B8%B0.ipynb\" target=\"_parent\"><img src=\"https://colab.research.google.com/assets/colab-badge.svg\" alt=\"Open In Colab\"/></a>"
      ]
    },
    {
      "cell_type": "markdown",
      "source": [
        "문제 2252"
      ],
      "metadata": {
        "id": "qyl04bQ1eG4b"
      }
    },
    {
      "cell_type": "code",
      "source": [
        "import sys\n",
        "from collections import deque\n",
        "input = sys.stdin.readline\n",
        "\n",
        "n, m = map(int,input().split())\n",
        "arr = []\n",
        "cnt = [0 for _ in range(n+1)]\n",
        "graph = [[] for _ in range(n+1)]\n",
        "q = deque()\n",
        "\n",
        "for i in range(m):\n",
        "  a, b = map(int, input().split())\n",
        "  arr.append([a,b])\n",
        "\n",
        "for a, b in arr:\n",
        "  cnt[b] += 1\n",
        "  graph[a].append(b)\n",
        "\n",
        "for i in range(1, n+1):\n",
        "  if cnt[i] == 0:\n",
        "    q.append(i)\n",
        "\n",
        "while q:\n",
        "  student = q.popleft()\n",
        "  for j in graph[student]:\n",
        "    cnt[j] -= 1\n",
        "    if cnt[j] == 0:\n",
        "      q.append(j)\n",
        "\n",
        "  print(student, end = ' ')"
      ],
      "metadata": {
        "id": "aiOB-7HueEH-"
      },
      "execution_count": null,
      "outputs": []
    }
  ]
}