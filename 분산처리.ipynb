{
  "nbformat": 4,
  "nbformat_minor": 0,
  "metadata": {
    "colab": {
      "name": "분산처리",
      "provenance": [],
      "authorship_tag": "ABX9TyMzKt79KwFIbkHdbi+QI205",
      "include_colab_link": true
    },
    "kernelspec": {
      "name": "python3",
      "display_name": "Python 3"
    },
    "language_info": {
      "name": "python"
    }
  },
  "cells": [
    {
      "cell_type": "markdown",
      "metadata": {
        "id": "view-in-github",
        "colab_type": "text"
      },
      "source": [
        "<a href=\"https://colab.research.google.com/github/Park-JeongHyun/python_algorithms/blob/main/%EB%B6%84%EC%82%B0%EC%B2%98%EB%A6%AC.ipynb\" target=\"_parent\"><img src=\"https://colab.research.google.com/assets/colab-badge.svg\" alt=\"Open In Colab\"/></a>"
      ]
    },
    {
      "cell_type": "markdown",
      "source": [
        "문제 1009"
      ],
      "metadata": {
        "id": "qyl04bQ1eG4b"
      }
    },
    {
      "cell_type": "code",
      "source": [
        "t = int(input())\n",
        "\n",
        "for _ in range(t):\n",
        "  a, b = map(int, input().split())\n",
        "  a = a%10\n",
        "\n",
        "  if a == 0:\n",
        "    print(10)\n",
        "  elif a == 1 or a == 5 or a == 6:\n",
        "    print(a)\n",
        "  elif a == 4 or a == 9:\n",
        "    b = b%2\n",
        "    if b == 1:\n",
        "      print(a)\n",
        "    else:\n",
        "      print((a*a) % 10)\n",
        "  else:\n",
        "    b = b%4\n",
        "    if b == 0:\n",
        "      print((a**4) % 10 % 10 % 10)\n",
        "    else:\n",
        "      print((a**b) % 10 % 10 % 10)"
      ],
      "metadata": {
        "id": "aiOB-7HueEH-"
      },
      "execution_count": null,
      "outputs": []
    }
  ]
}