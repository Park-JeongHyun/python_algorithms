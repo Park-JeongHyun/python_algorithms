{
  "nbformat": 4,
  "nbformat_minor": 0,
  "metadata": {
    "colab": {
      "name": "N과 M (5)",
      "provenance": [],
      "authorship_tag": "ABX9TyNXmMd8y2iG6QQeJd3JobRE",
      "include_colab_link": true
    },
    "kernelspec": {
      "name": "python3",
      "display_name": "Python 3"
    },
    "language_info": {
      "name": "python"
    }
  },
  "cells": [
    {
      "cell_type": "markdown",
      "metadata": {
        "id": "view-in-github",
        "colab_type": "text"
      },
      "source": [
        "<a href=\"https://colab.research.google.com/github/Park-JeongHyun/python_algorithms/blob/study/N%EA%B3%BC_M_(5).ipynb\" target=\"_parent\"><img src=\"https://colab.research.google.com/assets/colab-badge.svg\" alt=\"Open In Colab\"/></a>"
      ]
    },
    {
      "cell_type": "markdown",
      "source": [
        "문제 15654"
      ],
      "metadata": {
        "id": "sQfdHzj6kZvB"
      }
    },
    {
      "cell_type": "code",
      "source": [
        "n, m = map(int, input().split())\n",
        "w = list(map(int, input().split()))\n",
        "w.sort()\n",
        "a = []\n",
        "\n",
        "def dfs(s):\n",
        "  if len(a) == m:\n",
        "    print(\" \".join(map(str, a)))\n",
        "    return\n",
        "  for i in w:\n",
        "    if i not in a:\n",
        "      a.append(i)\n",
        "      dfs(i)\n",
        "      a.pop()\n",
        "\n",
        "dfs(w[0])"
      ],
      "metadata": {
        "id": "wI27MaK087Gk"
      },
      "execution_count": null,
      "outputs": []
    }
  ]
}