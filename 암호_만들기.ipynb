{
  "nbformat": 4,
  "nbformat_minor": 0,
  "metadata": {
    "colab": {
      "name": "\b암호 만들기",
      "provenance": [],
      "authorship_tag": "ABX9TyNN5aKAqddxr2oY+fwZjsjH",
      "include_colab_link": true
    },
    "kernelspec": {
      "name": "python3",
      "display_name": "Python 3"
    },
    "language_info": {
      "name": "python"
    }
  },
  "cells": [
    {
      "cell_type": "markdown",
      "metadata": {
        "id": "view-in-github",
        "colab_type": "text"
      },
      "source": [
        "<a href=\"https://colab.research.google.com/github/Park-JeongHyun/python_algorithms/blob/main/%08%EC%95%94%ED%98%B8_%EB%A7%8C%EB%93%A4%EA%B8%B0.ipynb\" target=\"_parent\"><img src=\"https://colab.research.google.com/assets/colab-badge.svg\" alt=\"Open In Colab\"/></a>"
      ]
    },
    {
      "cell_type": "markdown",
      "source": [
        "문제 1759"
      ],
      "metadata": {
        "id": "qyl04bQ1eG4b"
      }
    },
    {
      "cell_type": "code",
      "source": [
        "import sys\n",
        "from itertools import combinations\n",
        "\n",
        "input = sys.stdin.readline\n",
        "\n",
        "l, c = map(int, input().split())\n",
        "a = sorted(list(input().split()))\n",
        "m = ['a','e','i','o','u']\n",
        "\n",
        "comb = combinations(a,l)\n",
        "for i in comb:\n",
        "    z = 0\n",
        "    x = 0\n",
        "    for j in range(l):\n",
        "        if i[j] in m:\n",
        "            z += 1\n",
        "        else:\n",
        "            x += 1\n",
        "    if z >= 1 and x >= 2:\n",
        "            print(''.join(i))"
      ],
      "metadata": {
        "id": "aiOB-7HueEH-"
      },
      "execution_count": null,
      "outputs": []
    },
    {
      "cell_type": "markdown",
      "source": [
        ""
      ],
      "metadata": {
        "id": "4tEN4hRRyFTW"
      }
    }
  ]
}