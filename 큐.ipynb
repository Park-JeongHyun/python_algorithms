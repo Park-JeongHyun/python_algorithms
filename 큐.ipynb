{
  "nbformat": 4,
  "nbformat_minor": 0,
  "metadata": {
    "colab": {
      "name": "큐",
      "provenance": [],
      "authorship_tag": "ABX9TyNZiQlNifJwRZmXNlJad6ah",
      "include_colab_link": true
    },
    "kernelspec": {
      "name": "python3",
      "display_name": "Python 3"
    },
    "language_info": {
      "name": "python"
    }
  },
  "cells": [
    {
      "cell_type": "markdown",
      "metadata": {
        "id": "view-in-github",
        "colab_type": "text"
      },
      "source": [
        "<a href=\"https://colab.research.google.com/github/Park-JeongHyun/python_algorithms/blob/study/%ED%81%90.ipynb\" target=\"_parent\"><img src=\"https://colab.research.google.com/assets/colab-badge.svg\" alt=\"Open In Colab\"/></a>"
      ]
    },
    {
      "cell_type": "markdown",
      "source": [
        "문제 10845"
      ],
      "metadata": {
        "id": "sQfdHzj6kZvB"
      }
    },
    {
      "cell_type": "code",
      "source": [
        "from sys import stdin\n",
        "\n",
        "n = int(stdin.readline())\n",
        "a=[]\n",
        "\n",
        "for _ in range(n):\n",
        "  k = stdin.readline().split()\n",
        "\n",
        "  if \"push\" in k:\n",
        "    a.append(k[-1])\n",
        "  \n",
        "  if \"front\" in k and len(a) > 0:\n",
        "    print(a[0])\n",
        "  elif \"front\" in k and len(a) == 0:\n",
        "    print(-1)\n",
        "\n",
        "  if \"back\" in k and len(a) > 0:\n",
        "    print(a[-1])\n",
        "  elif \"back\" in k and len(a) == 0:\n",
        "    print(-1)\n",
        "\n",
        "  if \"size\" in k:\n",
        "    print(len(a))\n",
        "\n",
        "  if \"pop\" in k and len(a) > 0:\n",
        "    print(a[0])\n",
        "    del a[0]\n",
        "  elif \"pop\" in k and len(a) == 0:\n",
        "    print(-1)\n",
        "\n",
        "  if \"empty\" in k and len(a) > 0:\n",
        "    print(0)\n",
        "  elif \"empty\" in k and len(a) == 0:\n",
        "    print(1)\n"
      ],
      "metadata": {
        "id": "wI27MaK087Gk"
      },
      "execution_count": null,
      "outputs": []
    }
  ]
}