{
  "nbformat": 4,
  "nbformat_minor": 0,
  "metadata": {
    "colab": {
      "name": "스티커",
      "provenance": [],
      "authorship_tag": "ABX9TyNBvwWqbJkiBBMKEqDNTxKU",
      "include_colab_link": true
    },
    "kernelspec": {
      "name": "python3",
      "display_name": "Python 3"
    },
    "language_info": {
      "name": "python"
    }
  },
  "cells": [
    {
      "cell_type": "markdown",
      "metadata": {
        "id": "view-in-github",
        "colab_type": "text"
      },
      "source": [
        "<a href=\"https://colab.research.google.com/github/Park-JeongHyun/python_algorithms/blob/study/%EC%8A%A4%ED%8B%B0%EC%BB%A4.ipynb\" target=\"_parent\"><img src=\"https://colab.research.google.com/assets/colab-badge.svg\" alt=\"Open In Colab\"/></a>"
      ]
    },
    {
      "cell_type": "markdown",
      "source": [
        "문제 9465"
      ],
      "metadata": {
        "id": "sQfdHzj6kZvB"
      }
    },
    {
      "cell_type": "code",
      "source": [
        "t = int(input())\n",
        "\n",
        "for _ in range(t):\n",
        "  a = []\n",
        "  n = int(input())\n",
        "  for _ in range(2):\n",
        "    a.append(list(map(int, input().split())))\n",
        "\n",
        "  for j in range(1,n):\n",
        "    if j == 1:\n",
        "      a[0][j] += a[1][j-1]\n",
        "      a[1][j] += a[0][j-1]\n",
        "    else:\n",
        "      a[0][j] += max(a[1][j-1], a[1][j-2])\n",
        "      a[1][j] += max(a[0][j-1], a[0][j-2])\n",
        "  \n",
        "  print(max(a[0][n - 1], a[1][n-1]))"
      ],
      "metadata": {
        "id": "wI27MaK087Gk"
      },
      "execution_count": null,
      "outputs": []
    }
  ]
}