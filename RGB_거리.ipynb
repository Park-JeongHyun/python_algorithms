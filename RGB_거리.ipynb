{
  "nbformat": 4,
  "nbformat_minor": 0,
  "metadata": {
    "colab": {
      "name": "RGB 거리",
      "provenance": [],
      "authorship_tag": "ABX9TyMJ7RDaa0EZ3sTwN3VvXExJ",
      "include_colab_link": true
    },
    "kernelspec": {
      "name": "python3",
      "display_name": "Python 3"
    },
    "language_info": {
      "name": "python"
    }
  },
  "cells": [
    {
      "cell_type": "markdown",
      "metadata": {
        "id": "view-in-github",
        "colab_type": "text"
      },
      "source": [
        "<a href=\"https://colab.research.google.com/github/Park-JeongHyun/python_algorithms/blob/study/RGB_%EA%B1%B0%EB%A6%AC.ipynb\" target=\"_parent\"><img src=\"https://colab.research.google.com/assets/colab-badge.svg\" alt=\"Open In Colab\"/></a>"
      ]
    },
    {
      "cell_type": "markdown",
      "source": [
        "문제 1149"
      ],
      "metadata": {
        "id": "sQfdHzj6kZvB"
      }
    },
    {
      "cell_type": "code",
      "source": [
        "from sys import stdin\n",
        "n = int(stdin.readline())\n",
        "a = []\n",
        "\n",
        "for _ in range(n):\n",
        "\n",
        "  a.append(list(map(int, stdin.readline().split())))\n",
        "\n",
        "for i in range(1,n):\n",
        "  a[i][0] = min(a[i-1][1], a[i-1][2]) + a[i][0]\n",
        "  a[i][1] = min(a[i-1][0], a[i-1][2]) + a[i][1]\n",
        "  a[i][2] = min(a[i-1][0], a[i-1][1]) + a[i][2]\n",
        "\n",
        "print(min(a[n-1]))"
      ],
      "metadata": {
        "id": "wI27MaK087Gk"
      },
      "execution_count": null,
      "outputs": []
    }
  ]
}