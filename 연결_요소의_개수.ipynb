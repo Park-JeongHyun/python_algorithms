{
  "nbformat": 4,
  "nbformat_minor": 0,
  "metadata": {
    "colab": {
      "name": "연결 요소의 개수",
      "provenance": [],
      "authorship_tag": "ABX9TyPcZ5Kdi7zUMQrgSceXu0Yh",
      "include_colab_link": true
    },
    "kernelspec": {
      "name": "python3",
      "display_name": "Python 3"
    },
    "language_info": {
      "name": "python"
    }
  },
  "cells": [
    {
      "cell_type": "markdown",
      "metadata": {
        "id": "view-in-github",
        "colab_type": "text"
      },
      "source": [
        "<a href=\"https://colab.research.google.com/github/Park-JeongHyun/python_algorithms/blob/study/%EC%97%B0%EA%B2%B0_%EC%9A%94%EC%86%8C%EC%9D%98_%EA%B0%9C%EC%88%98.ipynb\" target=\"_parent\"><img src=\"https://colab.research.google.com/assets/colab-badge.svg\" alt=\"Open In Colab\"/></a>"
      ]
    },
    {
      "cell_type": "markdown",
      "source": [
        "문제 11724"
      ],
      "metadata": {
        "id": "sQfdHzj6kZvB"
      }
    },
    {
      "cell_type": "code",
      "source": [
        "n, m = map(int, input().split())\n",
        "a = [[] * (n+1) for _ in range(n+1)]\n",
        "visited = [0 for _ in range(n+1)]\n",
        "\n",
        "for _ in range(m):\n",
        "  u, v = map(int, input().split())\n",
        "  a[u].append(v)\n",
        "  a[v].append(u)\n",
        "\n",
        "def dfs(u):\n",
        "  visited[u] = 1\n",
        "  for i in a[u]:\n",
        "    if visited[i] == 0:\n",
        "      dfs(i)\n",
        "\n",
        "cnt = 0\n",
        "for i in range(1, n+1):\n",
        "  if visited[i] == 0:\n",
        "    cnt += 1\n",
        "    dfs(i)\n",
        "\n",
        "print(cnt)"
      ],
      "metadata": {
        "id": "wI27MaK087Gk"
      },
      "execution_count": null,
      "outputs": []
    }
  ]
}