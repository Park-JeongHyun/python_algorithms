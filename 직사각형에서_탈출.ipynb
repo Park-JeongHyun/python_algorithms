{
  "nbformat": 4,
  "nbformat_minor": 0,
  "metadata": {
    "colab": {
      "name": "직사각형에서 탈출",
      "provenance": [],
      "authorship_tag": "ABX9TyNBCnVOH9WBYiZbgwK5x5mk",
      "include_colab_link": true
    },
    "kernelspec": {
      "name": "python3",
      "display_name": "Python 3"
    },
    "language_info": {
      "name": "python"
    }
  },
  "cells": [
    {
      "cell_type": "markdown",
      "metadata": {
        "id": "view-in-github",
        "colab_type": "text"
      },
      "source": [
        "<a href=\"https://colab.research.google.com/github/Park-JeongHyun/python_algorithms/blob/study/%EC%A7%81%EC%82%AC%EA%B0%81%ED%98%95%EC%97%90%EC%84%9C_%ED%83%88%EC%B6%9C.ipynb\" target=\"_parent\"><img src=\"https://colab.research.google.com/assets/colab-badge.svg\" alt=\"Open In Colab\"/></a>"
      ]
    },
    {
      "cell_type": "markdown",
      "source": [
        "문제 1085"
      ],
      "metadata": {
        "id": "sQfdHzj6kZvB"
      }
    },
    {
      "cell_type": "code",
      "source": [
        "x, y, w, h = map(int, input().split())\n",
        "\n",
        "a = x - 0\n",
        "b = y - 0\n",
        "c = w - x\n",
        "d = h - y #중에 뭐가 제일 작은지 판단\n",
        "\n",
        "l = [a, b, c, d]\n",
        "\n",
        "print(min(l))\n"
      ],
      "metadata": {
        "colab": {
          "base_uri": "https://localhost:8080/"
        },
        "id": "wI27MaK087Gk",
        "outputId": "75d20ae3-dfad-4349-baa7-e5c967cef745"
      },
      "execution_count": 2,
      "outputs": [
        {
          "output_type": "stream",
          "name": "stdout",
          "text": [
            "653 375 1000 1000\n",
            "347\n"
          ]
        }
      ]
    }
  ]
}