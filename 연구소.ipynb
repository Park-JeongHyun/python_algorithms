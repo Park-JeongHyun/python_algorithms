{
  "nbformat": 4,
  "nbformat_minor": 0,
  "metadata": {
    "colab": {
      "name": "연구소",
      "provenance": [],
      "authorship_tag": "ABX9TyMs5xYOB+NtH8XHLvenBqtg",
      "include_colab_link": true
    },
    "kernelspec": {
      "name": "python3",
      "display_name": "Python 3"
    },
    "language_info": {
      "name": "python"
    }
  },
  "cells": [
    {
      "cell_type": "markdown",
      "metadata": {
        "id": "view-in-github",
        "colab_type": "text"
      },
      "source": [
        "<a href=\"https://colab.research.google.com/github/Park-JeongHyun/python_algorithms/blob/main/%EC%97%B0%EA%B5%AC%EC%86%8C.ipynb\" target=\"_parent\"><img src=\"https://colab.research.google.com/assets/colab-badge.svg\" alt=\"Open In Colab\"/></a>"
      ]
    },
    {
      "cell_type": "markdown",
      "source": [
        "문제 14502"
      ],
      "metadata": {
        "id": "sQfdHzj6kZvB"
      }
    },
    {
      "cell_type": "code",
      "source": [
        "import sys, copy, collections \n",
        "\n",
        "n, m = map(int, sys.stdin.readline().split()) \n",
        "max_num = 0 \n",
        "\n",
        "dx = [0, 0, -1, 1] \n",
        "dy = [-1, 1, 0, 0] \n",
        "empty_list = [] \n",
        "virus_list = [] \n",
        "\n",
        "EMPTY = 0 \n",
        "WALL = 1 \n",
        "VIRUS = 2 \n",
        "\n",
        "# 입력 \n",
        "g = [[0]*m for _ in range(n)] \n",
        "\n",
        "for y in range(n): \n",
        "    raw = [int(x) for x in sys.stdin.readline().split()]\n",
        "    \n",
        "    for x in range(m): \n",
        "        g[y][x] = raw[x] \n",
        "        if g[y][x] == EMPTY: \n",
        "            empty_list.append([y, x]) \n",
        "        if g[y][x] == VIRUS: \n",
        "            virus_list.append([y, x]) \n",
        "\n",
        "# bfs 탐색 \n",
        "def bfs(ng): \n",
        "    q = collections.deque([]) \n",
        "    visited = [[False]*m for _ in range(n)] \n",
        "    cnt = 0 \n",
        "    global max_num \n",
        "    \n",
        "    for virus in virus_list: \n",
        "        q.append(virus) \n",
        "    \n",
        "    while q: \n",
        "        cy, cx = q.popleft() \n",
        "        \n",
        "        for i in range(4): \n",
        "            ny = cy + dy[i] \n",
        "            nx = cx + dx[i] \n",
        "            \n",
        "            if ny < 0 or ny >= n or nx < 0 or nx >= m: \n",
        "                continue \n",
        "            if ng[ny][nx] == EMPTY and visited[ny][nx] == False: \n",
        "                q.append([ny, nx]) \n",
        "                ng[ny][nx] = VIRUS \n",
        "                visited[ny][nx] = True \n",
        "    for i in range(n): \n",
        "        cnt += ng[i].count(EMPTY) \n",
        "        \n",
        "    if max_num < cnt: \n",
        "        max_num = cnt \n",
        "        \n",
        "# 벽 세우기 \n",
        "for i in range(len(empty_list)): \n",
        "    for j in range(i): \n",
        "        for k in range(j): \n",
        "            y1, x1 = empty_list[i] \n",
        "            y2, x2 = empty_list[j] \n",
        "            y3, x3 = empty_list[k] \n",
        "            \n",
        "            g[y1][x1] = WALL \n",
        "            g[y2][x2] = WALL \n",
        "            g[y3][x3] = WALL \n",
        "            \n",
        "            ng = copy.deepcopy(g) \n",
        "            bfs(ng) \n",
        "            \n",
        "            g[y1][x1] = EMPTY \n",
        "            g[y2][x2] = EMPTY \n",
        "            g[y3][x3] = EMPTY \n",
        "            \n",
        "print(max_num)"
      ],
      "metadata": {
        "id": "wI27MaK087Gk"
      },
      "execution_count": null,
      "outputs": []
    }
  ]
}