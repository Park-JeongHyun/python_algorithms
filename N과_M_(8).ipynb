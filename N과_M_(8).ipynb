{
  "nbformat": 4,
  "nbformat_minor": 0,
  "metadata": {
    "colab": {
      "name": "N과 M (8)",
      "provenance": [],
      "authorship_tag": "ABX9TyPIXOHfOF4bSWhe4MHAOvWL",
      "include_colab_link": true
    },
    "kernelspec": {
      "name": "python3",
      "display_name": "Python 3"
    },
    "language_info": {
      "name": "python"
    }
  },
  "cells": [
    {
      "cell_type": "markdown",
      "metadata": {
        "id": "view-in-github",
        "colab_type": "text"
      },
      "source": [
        "<a href=\"https://colab.research.google.com/github/Park-JeongHyun/python_algorithms/blob/study/N%EA%B3%BC_M_(8).ipynb\" target=\"_parent\"><img src=\"https://colab.research.google.com/assets/colab-badge.svg\" alt=\"Open In Colab\"/></a>"
      ]
    },
    {
      "cell_type": "markdown",
      "source": [
        "문제 15657"
      ],
      "metadata": {
        "id": "sQfdHzj6kZvB"
      }
    },
    {
      "cell_type": "code",
      "source": [
        "n, m = map(int, input().split())\n",
        "w = list(map(int, input().split()))\n",
        "w.sort()\n",
        "a = []\n",
        "\n",
        "def dfs(s):\n",
        "  if len(a) == m:\n",
        "    print(\" \".join(map(str, a)))\n",
        "    return\n",
        "  for i in range(len(w)):\n",
        "    if s==0 or a[s-1] <= w[i]:\n",
        "      a.append(w[i])\n",
        "      dfs(s+1)\n",
        "      a.pop()\n",
        "\n",
        "dfs(0)"
      ],
      "metadata": {
        "id": "wI27MaK087Gk"
      },
      "execution_count": null,
      "outputs": []
    }
  ]
}