{
  "nbformat": 4,
  "nbformat_minor": 0,
  "metadata": {
    "colab": {
      "name": "트리의 부모 찾기",
      "provenance": [],
      "authorship_tag": "ABX9TyM8sh7lL5lGOzAFkUhBoLTB",
      "include_colab_link": true
    },
    "kernelspec": {
      "name": "python3",
      "display_name": "Python 3"
    },
    "language_info": {
      "name": "python"
    }
  },
  "cells": [
    {
      "cell_type": "markdown",
      "metadata": {
        "id": "view-in-github",
        "colab_type": "text"
      },
      "source": [
        "<a href=\"https://colab.research.google.com/github/Park-JeongHyun/python_algorithms/blob/main/%ED%8A%B8%EB%A6%AC%EC%9D%98_%EB%B6%80%EB%AA%A8_%EC%B0%BE%EA%B8%B0.ipynb\" target=\"_parent\"><img src=\"https://colab.research.google.com/assets/colab-badge.svg\" alt=\"Open In Colab\"/></a>"
      ]
    },
    {
      "cell_type": "markdown",
      "source": [
        "문제 11725"
      ],
      "metadata": {
        "id": "sQfdHzj6kZvB"
      }
    },
    {
      "cell_type": "code",
      "source": [
        "import sys\n",
        "sys.setrecursionlimit(10**6)\n",
        "n = int(input())\n",
        "\n",
        "tree = [[] for _ in range(n+1)]\n",
        "parents = [0 for _ in range(n+1)]\n",
        "\n",
        "for _ in range(n-1):\n",
        "  a, b = map(int, input().split())\n",
        "  tree[a].append(b)\n",
        "  tree[b].append(a)\n",
        "\n",
        "def solve(s):\n",
        "  for i in tree[s]:\n",
        "    if parents[i] == 0:\n",
        "      parents[i] = s\n",
        "      solve(i)\n",
        "\n",
        "solve(1)\n",
        "\n",
        "for i in range(2, n+1):\n",
        "  print(parents[i])"
      ],
      "metadata": {
        "id": "wI27MaK087Gk"
      },
      "execution_count": null,
      "outputs": []
    }
  ]
}