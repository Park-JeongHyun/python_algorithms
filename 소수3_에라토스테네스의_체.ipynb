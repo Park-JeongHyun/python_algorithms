{
  "nbformat": 4,
  "nbformat_minor": 0,
  "metadata": {
    "colab": {
      "name": "소수3 에라토스테네스의 체",
      "provenance": [],
      "authorship_tag": "ABX9TyPcPIluJgUHxCZCkcyWtIe+",
      "include_colab_link": true
    },
    "kernelspec": {
      "name": "python3",
      "display_name": "Python 3"
    },
    "language_info": {
      "name": "python"
    }
  },
  "cells": [
    {
      "cell_type": "markdown",
      "metadata": {
        "id": "view-in-github",
        "colab_type": "text"
      },
      "source": [
        "<a href=\"https://colab.research.google.com/github/Park-JeongHyun/python_algorithms/blob/study/%EC%86%8C%EC%88%983_%EC%97%90%EB%9D%BC%ED%86%A0%EC%8A%A4%ED%85%8C%EB%84%A4%EC%8A%A4%EC%9D%98_%EC%B2%B4.ipynb\" target=\"_parent\"><img src=\"https://colab.research.google.com/assets/colab-badge.svg\" alt=\"Open In Colab\"/></a>"
      ]
    },
    {
      "cell_type": "markdown",
      "source": [
        "문제 1929"
      ],
      "metadata": {
        "id": "sQfdHzj6kZvB"
      }
    },
    {
      "cell_type": "code",
      "source": [
        "m, n = map(int, input().split())\n",
        "a = [True]*(n+1)\n",
        "k = int(n**0.5)\n",
        "\n",
        "for i in range(2, k+1):\n",
        "  if a[i] == True:\n",
        "    for j in range(i+i, n+1, i):\n",
        "      a[j] = False\n",
        "\n",
        "if m ==1:\n",
        "  for t in range(2, n+1):\n",
        "    if a[t]:\n",
        "      print(t)\n",
        "else:\n",
        "  for t in range(m, n+1):\n",
        "    if a[t]:\n",
        "      print(t)"
      ],
      "metadata": {
        "colab": {
          "base_uri": "https://localhost:8080/"
        },
        "id": "wI27MaK087Gk",
        "outputId": "69c8d912-2ca3-4599-a759-a6a202382961"
      },
      "execution_count": 4,
      "outputs": [
        {
          "output_type": "stream",
          "name": "stdout",
          "text": [
            "3 16\n",
            "3\n",
            "5\n",
            "7\n",
            "11\n",
            "13\n"
          ]
        }
      ]
    }
  ]
}