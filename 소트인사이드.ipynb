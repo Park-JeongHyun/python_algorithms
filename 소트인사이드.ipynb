{
  "nbformat": 4,
  "nbformat_minor": 0,
  "metadata": {
    "colab": {
      "name": "소트인사이드",
      "provenance": [],
      "authorship_tag": "ABX9TyMw4pmRBzSIsLb6zgRdkMkg",
      "include_colab_link": true
    },
    "kernelspec": {
      "name": "python3",
      "display_name": "Python 3"
    },
    "language_info": {
      "name": "python"
    }
  },
  "cells": [
    {
      "cell_type": "markdown",
      "metadata": {
        "id": "view-in-github",
        "colab_type": "text"
      },
      "source": [
        "<a href=\"https://colab.research.google.com/github/Park-JeongHyun/python_algorithms/blob/study/%EC%86%8C%ED%8A%B8%EC%9D%B8%EC%82%AC%EC%9D%B4%EB%93%9C.ipynb\" target=\"_parent\"><img src=\"https://colab.research.google.com/assets/colab-badge.svg\" alt=\"Open In Colab\"/></a>"
      ]
    },
    {
      "cell_type": "markdown",
      "source": [
        "문제 1427"
      ],
      "metadata": {
        "id": "sQfdHzj6kZvB"
      }
    },
    {
      "cell_type": "code",
      "source": [
        "n = input()\n",
        "a = []\n",
        "\n",
        "for i in range(len(n)):\n",
        "  a.append(n[i])\n",
        "\n",
        "a.sort(reverse = True)\n",
        "\n",
        "result = ''\n",
        "for j in a:\n",
        "  result += j\n",
        "\n",
        "print(result)"
      ],
      "metadata": {
        "id": "wI27MaK087Gk"
      },
      "execution_count": null,
      "outputs": []
    }
  ]
}