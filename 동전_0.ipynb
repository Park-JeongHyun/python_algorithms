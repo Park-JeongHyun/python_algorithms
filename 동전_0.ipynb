{
  "nbformat": 4,
  "nbformat_minor": 0,
  "metadata": {
    "colab": {
      "name": "동전 0",
      "provenance": [],
      "authorship_tag": "ABX9TyPSfnvdcTr8oKfYwdXl01I/",
      "include_colab_link": true
    },
    "kernelspec": {
      "name": "python3",
      "display_name": "Python 3"
    },
    "language_info": {
      "name": "python"
    }
  },
  "cells": [
    {
      "cell_type": "markdown",
      "metadata": {
        "id": "view-in-github",
        "colab_type": "text"
      },
      "source": [
        "<a href=\"https://colab.research.google.com/github/Park-JeongHyun/python_algorithms/blob/study/%EB%8F%99%EC%A0%84_0.ipynb\" target=\"_parent\"><img src=\"https://colab.research.google.com/assets/colab-badge.svg\" alt=\"Open In Colab\"/></a>"
      ]
    },
    {
      "cell_type": "markdown",
      "source": [
        "문제 11047"
      ],
      "metadata": {
        "id": "sQfdHzj6kZvB"
      }
    },
    {
      "cell_type": "code",
      "source": [
        "n, k = map(int, input().split())\n",
        "a = []\n",
        "\n",
        "for _ in range(n):\n",
        "  a.append(int(input()))\n",
        "\n",
        "cnt = 0\n",
        "while k>0:\n",
        "  b = []\n",
        "  for i in a:\n",
        "    if i > k:\n",
        "      continue\n",
        "    else:\n",
        "      b.append(i)\n",
        "      \n",
        "  m = max(b)\n",
        "  cnt += k//m\n",
        "\n",
        "  k = k%m\n",
        "  \n",
        "print(cnt)  "
      ],
      "metadata": {
        "id": "wI27MaK087Gk"
      },
      "execution_count": null,
      "outputs": []
    }
  ]
}