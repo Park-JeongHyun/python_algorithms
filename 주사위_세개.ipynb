{
  "nbformat": 4,
  "nbformat_minor": 0,
  "metadata": {
    "colab": {
      "name": "주사위 세개",
      "provenance": [],
      "authorship_tag": "ABX9TyN2oLWWeUoWX02K/34DR0CS",
      "include_colab_link": true
    },
    "kernelspec": {
      "name": "python3",
      "display_name": "Python 3"
    },
    "language_info": {
      "name": "python"
    }
  },
  "cells": [
    {
      "cell_type": "markdown",
      "metadata": {
        "id": "view-in-github",
        "colab_type": "text"
      },
      "source": [
        "<a href=\"https://colab.research.google.com/github/Park-JeongHyun/python_algorithms/blob/main/%EC%A3%BC%EC%82%AC%EC%9C%84_%EC%84%B8%EA%B0%9C.ipynb\" target=\"_parent\"><img src=\"https://colab.research.google.com/assets/colab-badge.svg\" alt=\"Open In Colab\"/></a>"
      ]
    },
    {
      "cell_type": "markdown",
      "source": [
        "문제 2480"
      ],
      "metadata": {
        "id": "qyl04bQ1eG4b"
      }
    },
    {
      "cell_type": "code",
      "source": [
        "a = list(map(int, input().split()))\n",
        "b = {}\n",
        "\n",
        "for i in a:\n",
        "  try:\n",
        "    b[i] += 1\n",
        "  except:\n",
        "    b[i] = 1\n",
        "\n",
        "cnt = 0\n",
        "result = []\n",
        "for i in a:\n",
        "  if b[i] == 3:\n",
        "    result.append(10000 + i*1000)\n",
        "  elif b[i] == 2:\n",
        "    result.append(1000 + i*100)\n",
        "  else:\n",
        "    result.append(max(a)*100)\n",
        "\n",
        "print(max(result))"
      ],
      "metadata": {
        "id": "aiOB-7HueEH-"
      },
      "execution_count": null,
      "outputs": []
    }
  ]
}