{
  "nbformat": 4,
  "nbformat_minor": 0,
  "metadata": {
    "colab": {
      "name": "LCS",
      "provenance": [],
      "authorship_tag": "ABX9TyPrLW1/d7QF6maekjl054fS",
      "include_colab_link": true
    },
    "kernelspec": {
      "name": "python3",
      "display_name": "Python 3"
    },
    "language_info": {
      "name": "python"
    }
  },
  "cells": [
    {
      "cell_type": "markdown",
      "metadata": {
        "id": "view-in-github",
        "colab_type": "text"
      },
      "source": [
        "<a href=\"https://colab.research.google.com/github/Park-JeongHyun/python_algorithms/blob/main/LCS.ipynb\" target=\"_parent\"><img src=\"https://colab.research.google.com/assets/colab-badge.svg\" alt=\"Open In Colab\"/></a>"
      ]
    },
    {
      "cell_type": "markdown",
      "source": [
        "문제 9251"
      ],
      "metadata": {
        "id": "qyl04bQ1eG4b"
      }
    },
    {
      "cell_type": "code",
      "source": [
        "import sys\n",
        "input = sys.stdin.readline\n",
        "\n",
        "m = ' ' + input().rstrip()\n",
        "n = ' ' + input().rstrip()\n",
        "dp = [[0] * len(n) for _ in range(len(m))]\n",
        "\n",
        "for i in range(1, len(m)):\n",
        "    for j in range(1, len(n)):\n",
        "        if m[i] == n[j]:\n",
        "            dp[i][j] = dp[i - 1][j - 1] + 1\n",
        "        else:\n",
        "            dp[i][j] = max(dp[i - 1][j], dp[i][j - 1])\n",
        "\n",
        "print(dp[-1][-1])"
      ],
      "metadata": {
        "id": "aiOB-7HueEH-"
      },
      "execution_count": null,
      "outputs": []
    },
    {
      "cell_type": "markdown",
      "source": [
        ""
      ],
      "metadata": {
        "id": "4tEN4hRRyFTW"
      }
    }
  ]
}